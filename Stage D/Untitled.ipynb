{
 "cells": [
  {
   "cell_type": "markdown",
   "metadata": {},
   "source": [
    "## Practice "
   ]
  },
  {
   "cell_type": "code",
   "execution_count": 28,
   "metadata": {},
   "outputs": [],
   "source": [
    "import numpy as np\n",
    "import matplotlib.pyplot as plt\n",
    "import idx2numpy as idx\n",
    "import tensorflow as tf\n",
    "import os\n",
    "from tensorflow import keras"
   ]
  },
  {
   "cell_type": "code",
   "execution_count": 34,
   "metadata": {},
   "outputs": [],
   "source": [
    "testimages = 'mnist/test-images.idx3-ubyte'\n",
    "testlabel = 'mnist/test-labels.idx1-ubyte'\n",
    "trainimages = 'mnist/train-images.idx3-ubyte'\n",
    "trainlabel = 'mnist/train-labels.idx1-ubyte'"
   ]
  },
  {
   "cell_type": "code",
   "execution_count": 29,
   "metadata": {},
   "outputs": [],
   "source": [
    "mnist = keras.datasets.mnist\n",
    "\n",
    "(traini, trainl), (testi,testl)= mnist.load_data()"
   ]
  },
  {
   "cell_type": "code",
   "execution_count": null,
   "metadata": {},
   "outputs": [],
   "source": []
  },
  {
   "cell_type": "code",
   "execution_count": null,
   "metadata": {},
   "outputs": [],
   "source": []
  },
  {
   "cell_type": "code",
   "execution_count": 23,
   "metadata": {},
   "outputs": [
    {
     "name": "stdout",
     "output_type": "stream",
     "text": [
      "Collecting opencv-python\n",
      "  Downloading opencv_python-4.4.0.44-cp38-cp38-win_amd64.whl (33.5 MB)\n",
      "Requirement already satisfied: numpy>=1.17.3 in c:\\users\\adeleke oladapo\\appdata\\local\\programs\\python\\python38\\lib\\site-packages (from opencv-python) (1.18.5)\n",
      "Installing collected packages: opencv-python\n",
      "Successfully installed opencv-python-4.4.0.44\n"
     ]
    }
   ],
   "source": [
    "!pip install opencv-python\n",
    "\n"
   ]
  },
  {
   "cell_type": "code",
   "execution_count": 6,
   "metadata": {
    "scrolled": true
   },
   "outputs": [
    {
     "name": "stdout",
     "output_type": "stream",
     "text": [
      "Python 3.8.1\n"
     ]
    }
   ],
   "source": [
    "!python -V"
   ]
  },
  {
   "cell_type": "code",
   "execution_count": 25,
   "metadata": {},
   "outputs": [
    {
     "data": {
      "text/plain": [
       "['FormatError',\n",
       " '__all__',\n",
       " '__builtins__',\n",
       " '__cached__',\n",
       " '__doc__',\n",
       " '__file__',\n",
       " '__loader__',\n",
       " '__name__',\n",
       " '__package__',\n",
       " '__path__',\n",
       " '__spec__',\n",
       " '__version__',\n",
       " 'absolute_import',\n",
       " 'convert_from_file',\n",
       " 'convert_from_string',\n",
       " 'convert_to_file',\n",
       " 'convert_to_string',\n",
       " 'converters',\n",
       " 'version']"
      ]
     },
     "execution_count": 25,
     "metadata": {},
     "output_type": "execute_result"
    }
   ],
   "source": [
    "dir(idx)"
   ]
  },
  {
   "cell_type": "code",
   "execution_count": 41,
   "metadata": {},
   "outputs": [],
   "source": [
    "test_images = idx.convert_from_file(testimages)\n",
    "test_labels = idx.convert_from_file(testlabel)\n",
    "train_images = idx.convert_from_file(trainimages)\n",
    "train_labels = idx.convert_from_file(trainlabel)"
   ]
  },
  {
   "cell_type": "code",
   "execution_count": 60,
   "metadata": {},
   "outputs": [
    {
     "data": {
      "text/plain": [
       "Text(0.5, 1.0, 'Label: 4')"
      ]
     },
     "execution_count": 60,
     "metadata": {},
     "output_type": "execute_result"
    },
    {
     "data": {
      "image/png": "[encoded data removed]",
      "text/plain": [
       "<Figure size 576x360 with 3 Axes>"
      ]
     },
     "metadata": {
      "needs_background": "light"
     },
     "output_type": "display_data"
    }
   ],
   "source": [
    "plt.figure(figsize=(8,5))\n",
    "plt.subplot(1,3,1)\n",
    "plt.imshow(train_images[0])\n",
    "plt.title(f'Label: {train_labels[0]}')\n",
    "\n",
    "plt.subplot(1,3,2)\n",
    "plt.imshow(train_images[1])\n",
    "plt.title(f'Label: {train_labels[1]}')\n",
    "\n",
    "plt.subplot(1,3,3)\n",
    "plt.imshow(train_images[2])\n",
    "plt.title(f'Label: {train_labels[2]}')"
   ]
  },
  {
   "cell_type": "code",
   "execution_count": 47,
   "metadata": {},
   "outputs": [
    {
     "name": "stdout",
     "output_type": "stream",
     "text": [
      "[[  0   0   0   0   0   0   0   0   0   0   0   0   0   0   0   0   0   0\n",
      "    0   0   0   0]\n",
      " [  0   0   0   0   0   0   0   0   0   0   0   0   0   0   0   0   0   0\n",
      "    0   0   0   0]\n",
      " [  0   0   0   0   0   0   0   0   0   0   0   0   0   0   0   0   0   0\n",
      "    0   0   0   0]\n",
      " [  0   0   0   0   0   0   0   0   0   0   0   0   0   0   0   0   0   0\n",
      "    0   0   0   0]\n",
      " [  0   0   0   0   0   0   0   0   0  51 159 253 159  50   0   0   0   0\n",
      "    0   0   0   0]\n",
      " [  0   0   0   0   0   0   0   0  48 238 252 252 252 237   0   0   0   0\n",
      "    0   0   0   0]\n",
      " [  0   0   0   0   0   0   0  54 227 253 252 239 233 252  57   6   0   0\n",
      "    0   0   0   0]\n",
      " [  0   0   0   0   0  10  60 224 252 253 252 202  84 252 253 122   0   0\n",
      "    0   0   0   0]\n",
      " [  0   0   0   0   0 163 252 252 252 253 252 252  96 189 253 167   0   0\n",
      "    0   0   0   0]\n",
      " [  0   0   0   0  51 238 253 253 190 114 253 228  47  79 255 168   0   0\n",
      "    0   0   0   0]\n",
      " [  0   0   0  48 238 252 252 179  12  75 121  21   0   0 253 243  50   0\n",
      "    0   0   0   0]\n",
      " [  0   0  38 165 253 233 208  84   0   0   0   0   0   0 253 252 165   0\n",
      "    0   0   0   0]\n",
      " [  0   7 178 252 240  71  19  28   0   0   0   0   0   0 253 252 195   0\n",
      "    0   0   0   0]\n",
      " [  0  57 252 252  63   0   0   0   0   0   0   0   0   0 253 252 195   0\n",
      "    0   0   0   0]\n",
      " [  0 198 253 190   0   0   0   0   0   0   0   0   0   0 255 253 196   0\n",
      "    0   0   0   0]\n",
      " [ 76 246 252 112   0   0   0   0   0   0   0   0   0   0 253 252 148   0\n",
      "    0   0   0   0]\n",
      " [ 85 252 230  25   0   0   0   0   0   0   0   0   7 135 253 186  12   0\n",
      "    0   0   0   0]\n",
      " [ 85 252 223   0   0   0   0   0   0   0   0   7 131 252 225  71   0   0\n",
      "    0   0   0   0]\n",
      " [ 85 252 145   0   0   0   0   0   0   0  48 165 252 173   0   0   0   0\n",
      "    0   0   0   0]\n",
      " [ 86 253 225   0   0   0   0   0   0 114 238 253 162   0   0   0   0   0\n",
      "    0   0   0   0]\n",
      " [ 85 252 249 146  48  29  85 178 225 253 223 167  56   0   0   0   0   0\n",
      "    0   0   0   0]\n",
      " [ 85 252 252 252 229 215 252 252 252 196 130   0   0   0   0   0   0   0\n",
      "    0   0   0   0]\n",
      " [ 28 199 252 252 253 252 252 233 145   0   0   0   0   0   0   0   0   0\n",
      "    0   0   0   0]\n",
      " [  0  25 128 252 253 252 141  37   0   0   0   0   0   0   0   0   0   0\n",
      "    0   0   0   0]\n",
      " [  0   0   0   0   0   0   0   0   0   0   0   0   0   0   0   0   0   0\n",
      "    0   0   0   0]\n",
      " [  0   0   0   0   0   0   0   0   0   0   0   0   0   0   0   0   0   0\n",
      "    0   0   0   0]\n",
      " [  0   0   0   0   0   0   0   0   0   0   0   0   0   0   0   0   0   0\n",
      "    0   0   0   0]\n",
      " [  0   0   0   0   0   0   0   0   0   0   0   0   0   0   0   0   0   0\n",
      "    0   0   0   0]]\n"
     ]
    }
   ],
   "source": [
    "print(train_images[1][:,6:])"
   ]
  },
  {
   "cell_type": "code",
   "execution_count": null,
   "metadata": {},
   "outputs": [],
   "source": [
    "v"
   ]
  },
  {
   "cell_type": "code",
   "execution_count": 54,
   "metadata": {},
   "outputs": [
    {
     "data": {
      "text/plain": [
       "<matplotlib.image.AxesImage at 0x1fc1b088f10>"
      ]
     },
     "execution_count": 54,
     "metadata": {},
     "output_type": "execute_result"
    },
    {
     "data": {
      "image/png": "[encoded data removed]",
      "text/plain": [
       "<Figure size 432x288 with 1 Axes>"
      ]
     },
     "metadata": {
      "needs_background": "light"
     },
     "output_type": "display_data"
    }
   ],
   "source": [
    "p = [[0,0,0,0,0,0,0,0,0,0,0,0,0],\n",
    "     [0,0,0,0,0,0,0,0,0,0,0,0,0],\n",
    "     [0,0,1,2,2,2,2,2,2,2,1,0,0],\n",
    "     [0,0,0,1,2,2,2,2,2,1,0,0,0],\n",
    "     [0,0,0,0,1,2,2,2,1,0,0,0,0],\n",
    "     [0,0,0,0,0,1,2,1,0,0,0,0,0],\n",
    "     [0,0,0,0,0,0,2,0,0,0,0,0,0]]\n",
    "plt.imshow(p)"
   ]
  },
  {
   "cell_type": "code",
   "execution_count": 59,
   "metadata": {},
   "outputs": [],
   "source": [
    "tf.Variable?\n"
   ]
  },
  {
   "cell_type": "code",
   "execution_count": null,
   "metadata": {},
   "outputs": [],
   "source": []
  },
  {
   "cell_type": "code",
   "execution_count": null,
   "metadata": {},
   "outputs": [],
   "source": []
  },
  {
   "cell_type": "code",
   "execution_count": null,
   "metadata": {},
   "outputs": [],
   "source": []
  },
  {
   "cell_type": "code",
   "execution_count": null,
   "metadata": {},
   "outputs": [],
   "source": []
  }
 ],
 "metadata": {
  "kernelspec": {
   "display_name": "Python 3",
   "language": "python",
   "name": "python3"
  }
 },
 "nbformat": 4,
 "nbformat_minor": 4
}
