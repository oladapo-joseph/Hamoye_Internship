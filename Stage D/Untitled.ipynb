{
 "cells": [
  {
   "cell_type": "markdown",
   "metadata": {},
   "source": [
    "## Practice "
   ]
  },
  {
   "cell_type": "code",
   "execution_count": 1,
   "metadata": {},
   "outputs": [],
   "source": [
    "import numpy as np\n",
    "import matplotlib.pyplot as plt\n",
    "import idx2numpy as idx\n",
    "import tensorflow as tf\n",
    "import os\n",
    "from tensorflow import keras"
   ]
  },
  {
   "cell_type": "code",
   "execution_count": 2,
   "metadata": {},
   "outputs": [],
   "source": [
    "testimages = 'mnist/test-images.idx3-ubyte'\n",
    "testlabel = 'mnist/test-labels.idx1-ubyte'\n",
    "trainimages = 'mnist/train-images.idx3-ubyte'\n",
    "trainlabel = 'mnist/train-labels.idx1-ubyte'"
   ]
  },
  {
   "cell_type": "code",
   "execution_count": 3,
   "metadata": {},
   "outputs": [],
   "source": [
    "mnist = keras.datasets.mnist\n",
    "\n",
    "(traini, trainl), (testi,testl)= mnist.load_data()"
   ]
  },
  {
   "cell_type": "code",
   "execution_count": 27,
   "metadata": {},
   "outputs": [
    {
     "name": "stdout",
     "output_type": "stream",
     "text": [
      "1\n"
     ]
    }
   ],
   "source": [
    "import random\n",
    "\n",
    "print(random.randint(1,2))"
   ]
  },
  {
   "cell_type": "code",
   "execution_count": 34,
   "metadata": {},
   "outputs": [
    {
     "name": "stdout",
     "output_type": "stream",
     "text": [
      "Help on class Random in module random:\n",
      "\n",
      "class Random(_random.Random)\n",
      " |  Random(x=None)\n",
      " |  \n",
      " |  Random number generator base class used by bound module functions.\n",
      " |  \n",
      " |  Used to instantiate instances of Random to get generators that don't\n",
      " |  share state.\n",
      " |  \n",
      " |  Class Random can also be subclassed if you want to use a different basic\n",
      " |  generator of your own devising: in that case, override the following\n",
      " |  methods:  random(), seed(), getstate(), and setstate().\n",
      " |  Optionally, implement a getrandbits() method so that randrange()\n",
      " |  can cover arbitrarily large ranges.\n",
      " |  \n",
      " |  Method resolution order:\n",
      " |      Random\n",
      " |      _random.Random\n",
      " |      builtins.object\n",
      " |  \n",
      " |  Methods defined here:\n",
      " |  \n",
      " |  __getstate__(self)\n",
      " |      # Issue 17489: Since __reduce__ was defined to fix #759889 this is no\n",
      " |      # longer called; we leave it here because it has been here since random was\n",
      " |      # rewritten back in 2001 and why risk breaking something.\n",
      " |  \n",
      " |  __init__(self, x=None)\n",
      " |      Initialize an instance.\n",
      " |      \n",
      " |      Optional argument x controls seeding, as for Random.seed().\n",
      " |  \n",
      " |  __reduce__(self)\n",
      " |      Helper for pickle.\n",
      " |  \n",
      " |  __setstate__(self, state)\n",
      " |  \n",
      " |  betavariate(self, alpha, beta)\n",
      " |      Beta distribution.\n",
      " |      \n",
      " |      Conditions on the parameters are alpha > 0 and beta > 0.\n",
      " |      Returned values range between 0 and 1.\n",
      " |  \n",
      " |  choice(self, seq)\n",
      " |      Choose a random element from a non-empty sequence.\n",
      " |  \n",
      " |  choices(self, population, weights=None, *, cum_weights=None, k=1)\n",
      " |      Return a k sized list of population elements chosen with replacement.\n",
      " |      \n",
      " |      If the relative weights or cumulative weights are not specified,\n",
      " |      the selections are made with equal probability.\n",
      " |  \n",
      " |  expovariate(self, lambd)\n",
      " |      Exponential distribution.\n",
      " |      \n",
      " |      lambd is 1.0 divided by the desired mean.  It should be\n",
      " |      nonzero.  (The parameter would be called \"lambda\", but that is\n",
      " |      a reserved word in Python.)  Returned values range from 0 to\n",
      " |      positive infinity if lambd is positive, and from negative\n",
      " |      infinity to 0 if lambd is negative.\n",
      " |  \n",
      " |  gammavariate(self, alpha, beta)\n",
      " |      Gamma distribution.  Not the gamma function!\n",
      " |      \n",
      " |      Conditions on the parameters are alpha > 0 and beta > 0.\n",
      " |      \n",
      " |      The probability distribution function is:\n",
      " |      \n",
      " |                  x ** (alpha - 1) * math.exp(-x / beta)\n",
      " |        pdf(x) =  --------------------------------------\n",
      " |                    math.gamma(alpha) * beta ** alpha\n",
      " |  \n",
      " |  gauss(self, mu, sigma)\n",
      " |      Gaussian distribution.\n",
      " |      \n",
      " |      mu is the mean, and sigma is the standard deviation.  This is\n",
      " |      slightly faster than the normalvariate() function.\n",
      " |      \n",
      " |      Not thread-safe without a lock around calls.\n",
      " |  \n",
      " |  getstate(self)\n",
      " |      Return internal state; can be passed to setstate() later.\n",
      " |  \n",
      " |  lognormvariate(self, mu, sigma)\n",
      " |      Log normal distribution.\n",
      " |      \n",
      " |      If you take the natural logarithm of this distribution, you'll get a\n",
      " |      normal distribution with mean mu and standard deviation sigma.\n",
      " |      mu can have any value, and sigma must be greater than zero.\n",
      " |  \n",
      " |  normalvariate(self, mu, sigma)\n",
      " |      Normal distribution.\n",
      " |      \n",
      " |      mu is the mean, and sigma is the standard deviation.\n",
      " |  \n",
      " |  paretovariate(self, alpha)\n",
      " |      Pareto distribution.  alpha is the shape parameter.\n",
      " |  \n",
      " |  randint(self, a, b)\n",
      " |      Return random integer in range [a, b], including both end points.\n",
      " |  \n",
      " |  randrange(self, start, stop=None, step=1, _int=<class 'int'>)\n",
      " |      Choose a random item from range(start, stop[, step]).\n",
      " |      \n",
      " |      This fixes the problem with randint() which includes the\n",
      " |      endpoint; in Python this is usually not what you want.\n",
      " |  \n",
      " |  sample(self, population, k)\n",
      " |      Chooses k unique random elements from a population sequence or set.\n",
      " |      \n",
      " |      Returns a new list containing elements from the population while\n",
      " |      leaving the original population unchanged.  The resulting list is\n",
      " |      in selection order so that all sub-slices will also be valid random\n",
      " |      samples.  This allows raffle winners (the sample) to be partitioned\n",
      " |      into grand prize and second place winners (the subslices).\n",
      " |      \n",
      " |      Members of the population need not be hashable or unique.  If the\n",
      " |      population contains repeats, then each occurrence is a possible\n",
      " |      selection in the sample.\n",
      " |      \n",
      " |      To choose a sample in a range of integers, use range as an argument.\n",
      " |      This is especially fast and space efficient for sampling from a\n",
      " |      large population:   sample(range(10000000), 60)\n",
      " |  \n",
      " |  seed(self, a=None, version=2)\n",
      " |      Initialize internal state from hashable object.\n",
      " |      \n",
      " |      None or no argument seeds from current time or from an operating\n",
      " |      system specific randomness source if available.\n",
      " |      \n",
      " |      If *a* is an int, all bits are used.\n",
      " |      \n",
      " |      For version 2 (the default), all of the bits are used if *a* is a str,\n",
      " |      bytes, or bytearray.  For version 1 (provided for reproducing random\n",
      " |      sequences from older versions of Python), the algorithm for str and\n",
      " |      bytes generates a narrower range of seeds.\n",
      " |  \n",
      " |  setstate(self, state)\n",
      " |      Restore internal state from object returned by getstate().\n",
      " |  \n",
      " |  shuffle(self, x, random=None)\n",
      " |      Shuffle list x in place, and return None.\n",
      " |      \n",
      " |      Optional argument random is a 0-argument function returning a\n",
      " |      random float in [0.0, 1.0); if it is the default None, the\n",
      " |      standard random.random will be used.\n",
      " |  \n",
      " |  triangular(self, low=0.0, high=1.0, mode=None)\n",
      " |      Triangular distribution.\n",
      " |      \n",
      " |      Continuous distribution bounded by given lower and upper limits,\n",
      " |      and having a given mode value in-between.\n",
      " |      \n",
      " |      http://en.wikipedia.org/wiki/Triangular_distribution\n",
      " |  \n",
      " |  uniform(self, a, b)\n",
      " |      Get a random number in the range [a, b) or [a, b] depending on rounding.\n",
      " |  \n",
      " |  vonmisesvariate(self, mu, kappa)\n",
      " |      Circular data distribution.\n",
      " |      \n",
      " |      mu is the mean angle, expressed in radians between 0 and 2*pi, and\n",
      " |      kappa is the concentration parameter, which must be greater than or\n",
      " |      equal to zero.  If kappa is equal to zero, this distribution reduces\n",
      " |      to a uniform random angle over the range 0 to 2*pi.\n",
      " |  \n",
      " |  weibullvariate(self, alpha, beta)\n",
      " |      Weibull distribution.\n",
      " |      \n",
      " |      alpha is the scale parameter and beta is the shape parameter.\n",
      " |  \n",
      " |  ----------------------------------------------------------------------\n",
      " |  Class methods defined here:\n",
      " |  \n",
      " |  __init_subclass__(**kwargs) from builtins.type\n",
      " |      Control how subclasses generate random integers.\n",
      " |      \n",
      " |      The algorithm a subclass can use depends on the random() and/or\n",
      " |      getrandbits() implementation available to it and determines\n",
      " |      whether it can generate random integers from arbitrarily large\n",
      " |      ranges.\n",
      " |  \n",
      " |  ----------------------------------------------------------------------\n",
      " |  Data descriptors defined here:\n",
      " |  \n",
      " |  __dict__\n",
      " |      dictionary for instance variables (if defined)\n",
      " |  \n",
      " |  __weakref__\n",
      " |      list of weak references to the object (if defined)\n",
      " |  \n",
      " |  ----------------------------------------------------------------------\n",
      " |  Data and other attributes defined here:\n",
      " |  \n",
      " |  VERSION = 3\n",
      " |  \n",
      " |  ----------------------------------------------------------------------\n",
      " |  Methods inherited from _random.Random:\n",
      " |  \n",
      " |  __getattribute__(self, name, /)\n",
      " |      Return getattr(self, name).\n",
      " |  \n",
      " |  getrandbits(self, k, /)\n",
      " |      getrandbits(k) -> x.  Generates an int with k random bits.\n",
      " |  \n",
      " |  random(self, /)\n",
      " |      random() -> x in the interval [0, 1).\n",
      " |  \n",
      " |  ----------------------------------------------------------------------\n",
      " |  Static methods inherited from _random.Random:\n",
      " |  \n",
      " |  __new__(*args, **kwargs) from builtins.type\n",
      " |      Create and return a new object.  See help(type) for accurate signature.\n",
      "\n"
     ]
    }
   ],
   "source": [
    "help(random.Random)"
   ]
  },
  {
   "cell_type": "code",
   "execution_count": 30,
   "metadata": {},
   "outputs": [
    {
     "ename": "AttributeError",
     "evalue": "module 'random' has no attribute 'Rand'",
     "output_type": "error",
     "traceback": [
      "\u001b[1;31m---------------------------------------------------------------------------\u001b[0m",
      "\u001b[1;31mAttributeError\u001b[0m                            Traceback (most recent call last)",
      "\u001b[1;32m<ipython-input-30-4388a60f4eb8>\u001b[0m in \u001b[0;36m<module>\u001b[1;34m\u001b[0m\n\u001b[1;32m----> 1\u001b[1;33m \u001b[0mprint\u001b[0m\u001b[1;33m(\u001b[0m\u001b[0mrandom\u001b[0m\u001b[1;33m.\u001b[0m\u001b[0mRand\u001b[0m\u001b[1;33m(\u001b[0m\u001b[1;33m[\u001b[0m\u001b[0mi\u001b[0m \u001b[1;32mfor\u001b[0m \u001b[0mi\u001b[0m \u001b[1;32min\u001b[0m \u001b[0mrange\u001b[0m\u001b[1;33m(\u001b[0m\u001b[1;36m10\u001b[0m\u001b[1;33m)\u001b[0m\u001b[1;33m]\u001b[0m\u001b[1;33m)\u001b[0m\u001b[1;33m)\u001b[0m\u001b[1;33m\u001b[0m\u001b[1;33m\u001b[0m\u001b[0m\n\u001b[0m",
      "\u001b[1;31mAttributeError\u001b[0m: module 'random' has no attribute 'Rand'"
     ]
    }
   ],
   "source": [
    "print(random.Rand([i for i in range(10)]))"
   ]
  },
  {
   "cell_type": "code",
   "execution_count": 4,
   "metadata": {},
   "outputs": [
    {
     "data": {
      "text/plain": [
       "['FormatError',\n",
       " '__all__',\n",
       " '__builtins__',\n",
       " '__cached__',\n",
       " '__doc__',\n",
       " '__file__',\n",
       " '__loader__',\n",
       " '__name__',\n",
       " '__package__',\n",
       " '__path__',\n",
       " '__spec__',\n",
       " '__version__',\n",
       " 'absolute_import',\n",
       " 'convert_from_file',\n",
       " 'convert_from_string',\n",
       " 'convert_to_file',\n",
       " 'convert_to_string',\n",
       " 'converters',\n",
       " 'version']"
      ]
     },
     "execution_count": 4,
     "metadata": {},
     "output_type": "execute_result"
    }
   ],
   "source": [
    "dir(idx)"
   ]
  },
  {
   "cell_type": "code",
   "execution_count": 5,
   "metadata": {},
   "outputs": [],
   "source": [
    "test_images = idx.convert_from_file(testimages)\n",
    "test_labels = idx.convert_from_file(testlabel)\n",
    "train_images = idx.convert_from_file(trainimages)\n",
    "train_labels = idx.convert_from_file(trainlabel)"
   ]
  },
  {
   "cell_type": "code",
   "execution_count": 6,
   "metadata": {},
   "outputs": [
    {
     "data": {
      "text/plain": [
       "Text(0.5, 1.0, 'Label: 4')"
      ]
     },
     "execution_count": 6,
     "metadata": {},
     "output_type": "execute_result"
    },
    {
     "data": {
      "image/png": "[encoded data removed]",
      "text/plain": [
       "<Figure size 576x360 with 3 Axes>"
      ]
     },
     "metadata": {
      "needs_background": "light"
     },
     "output_type": "display_data"
    }
   ],
   "source": [
    "plt.figure(figsize=(8,5))\n",
    "plt.subplot(1,3,1)\n",
    "plt.imshow(train_images[0])\n",
    "plt.title(f'Label: {train_labels[0]}')\n",
    "\n",
    "plt.subplot(1,3,2)\n",
    "plt.imshow(train_images[1])\n",
    "plt.title(f'Label: {train_labels[1]}')\n",
    "\n",
    "plt.subplot(1,3,3)\n",
    "plt.imshow(train_images[2])\n",
    "plt.title(f'Label: {train_labels[2]}')"
   ]
  },
  {
   "cell_type": "code",
   "execution_count": 7,
   "metadata": {},
   "outputs": [
    {
     "name": "stdout",
     "output_type": "stream",
     "text": [
      "[[  0   0   0   0   0   0   0   0   0   0   0   0   0   0   0   0   0   0\n",
      "    0   0   0   0]\n",
      " [  0   0   0   0   0   0   0   0   0   0   0   0   0   0   0   0   0   0\n",
      "    0   0   0   0]\n",
      " [  0   0   0   0   0   0   0   0   0   0   0   0   0   0   0   0   0   0\n",
      "    0   0   0   0]\n",
      " [  0   0   0   0   0   0   0   0   0   0   0   0   0   0   0   0   0   0\n",
      "    0   0   0   0]\n",
      " [  0   0   0   0   0   0   0   0   0  51 159 253 159  50   0   0   0   0\n",
      "    0   0   0   0]\n",
      " [  0   0   0   0   0   0   0   0  48 238 252 252 252 237   0   0   0   0\n",
      "    0   0   0   0]\n",
      " [  0   0   0   0   0   0   0  54 227 253 252 239 233 252  57   6   0   0\n",
      "    0   0   0   0]\n",
      " [  0   0   0   0   0  10  60 224 252 253 252 202  84 252 253 122   0   0\n",
      "    0   0   0   0]\n",
      " [  0   0   0   0   0 163 252 252 252 253 252 252  96 189 253 167   0   0\n",
      "    0   0   0   0]\n",
      " [  0   0   0   0  51 238 253 253 190 114 253 228  47  79 255 168   0   0\n",
      "    0   0   0   0]\n",
      " [  0   0   0  48 238 252 252 179  12  75 121  21   0   0 253 243  50   0\n",
      "    0   0   0   0]\n",
      " [  0   0  38 165 253 233 208  84   0   0   0   0   0   0 253 252 165   0\n",
      "    0   0   0   0]\n",
      " [  0   7 178 252 240  71  19  28   0   0   0   0   0   0 253 252 195   0\n",
      "    0   0   0   0]\n",
      " [  0  57 252 252  63   0   0   0   0   0   0   0   0   0 253 252 195   0\n",
      "    0   0   0   0]\n",
      " [  0 198 253 190   0   0   0   0   0   0   0   0   0   0 255 253 196   0\n",
      "    0   0   0   0]\n",
      " [ 76 246 252 112   0   0   0   0   0   0   0   0   0   0 253 252 148   0\n",
      "    0   0   0   0]\n",
      " [ 85 252 230  25   0   0   0   0   0   0   0   0   7 135 253 186  12   0\n",
      "    0   0   0   0]\n",
      " [ 85 252 223   0   0   0   0   0   0   0   0   7 131 252 225  71   0   0\n",
      "    0   0   0   0]\n",
      " [ 85 252 145   0   0   0   0   0   0   0  48 165 252 173   0   0   0   0\n",
      "    0   0   0   0]\n",
      " [ 86 253 225   0   0   0   0   0   0 114 238 253 162   0   0   0   0   0\n",
      "    0   0   0   0]\n",
      " [ 85 252 249 146  48  29  85 178 225 253 223 167  56   0   0   0   0   0\n",
      "    0   0   0   0]\n",
      " [ 85 252 252 252 229 215 252 252 252 196 130   0   0   0   0   0   0   0\n",
      "    0   0   0   0]\n",
      " [ 28 199 252 252 253 252 252 233 145   0   0   0   0   0   0   0   0   0\n",
      "    0   0   0   0]\n",
      " [  0  25 128 252 253 252 141  37   0   0   0   0   0   0   0   0   0   0\n",
      "    0   0   0   0]\n",
      " [  0   0   0   0   0   0   0   0   0   0   0   0   0   0   0   0   0   0\n",
      "    0   0   0   0]\n",
      " [  0   0   0   0   0   0   0   0   0   0   0   0   0   0   0   0   0   0\n",
      "    0   0   0   0]\n",
      " [  0   0   0   0   0   0   0   0   0   0   0   0   0   0   0   0   0   0\n",
      "    0   0   0   0]\n",
      " [  0   0   0   0   0   0   0   0   0   0   0   0   0   0   0   0   0   0\n",
      "    0   0   0   0]]\n"
     ]
    }
   ],
   "source": [
    "print(train_images[1][:,6:])"
   ]
  },
  {
   "cell_type": "code",
   "execution_count": 8,
   "metadata": {},
   "outputs": [
    {
     "data": {
      "text/plain": [
       "<matplotlib.image.AxesImage at 0x20119f1fca0>"
      ]
     },
     "execution_count": 8,
     "metadata": {},
     "output_type": "execute_result"
    },
    {
     "data": {
      "image/png": "[encoded data removed]",
      "text/plain": [
       "<Figure size 432x288 with 1 Axes>"
      ]
     },
     "metadata": {
      "needs_background": "light"
     },
     "output_type": "display_data"
    }
   ],
   "source": [
    "p = [[0,0,0,0,0,0,0,0,0,0,0,0,0],\n",
    "     [0,0,0,0,0,0,0,0,0,0,0,0,0],\n",
    "     [0,0,1,2,2,2,2,2,2,2,1,0,0],\n",
    "     [0,0,0,1,2,2,2,2,2,1,0,0,0],\n",
    "     [0,0,0,0,1,2,2,2,1,0,0,0,0],\n",
    "     [0,0,0,0,0,1,2,1,0,0,0,0,0],\n",
    "     [0,0,0,0,0,0,2,0,0,0,0,0,0]]\n",
    "plt.imshow(p)"
   ]
  },
  {
   "cell_type": "code",
   "execution_count": 10,
   "metadata": {},
   "outputs": [],
   "source": [
    "tf.Variable?"
   ]
  },
  {
   "cell_type": "code",
   "execution_count": 11,
   "metadata": {},
   "outputs": [],
   "source": [
    "from zipfile import ZipFile"
   ]
  },
  {
   "cell_type": "code",
   "execution_count": null,
   "metadata": {},
   "outputs": [],
   "source": []
  },
  {
   "cell_type": "code",
   "execution_count": null,
   "metadata": {},
   "outputs": [],
   "source": []
  },
  {
   "cell_type": "code",
   "execution_count": null,
   "metadata": {},
   "outputs": [],
   "source": []
  }
 ],
 "metadata": {
  "kernelspec": {
   "display_name": "Python 3",
   "language": "python",
   "name": "python3"
  },
  "language_info": {
   "codemirror_mode": {
    "name": "ipython",
    "version": 3
   },
   "file_extension": ".py",
   "mimetype": "text/x-python",
   "name": "python",
   "nbconvert_exporter": "python",
   "pygments_lexer": "ipython3",
   "version": "3.8.3"
  }
 },
 "nbformat": 4,
 "nbformat_minor": 4
}
