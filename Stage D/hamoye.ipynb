{
 "cells": [
  {
   "cell_type": "code",
   "execution_count": 88,
   "metadata": {
    "_cell_guid": "b1076dfc-b9ad-4769-8c92-a6c4dae69d19",
    "_uuid": "8f2839f25d086af736a60e9eeb907d3b93b6e0e5"
   },
   "outputs": [],
   "source": [
    "import numpy as np # linear algebra\n",
    "import pandas as pd # data processing, CSV file I/O (e.g. pd.read_csv)\n",
    "\n",
    "\n",
    "import os\n",
    "for dirname, _, filenames in os.walk('/kaggle/input'):\n",
    "    for filename in filenames:\n",
    "        print(os.path.join(dirname, filename))\n",
    "\n"
   ]
  },
  {
   "cell_type": "code",
   "execution_count": 81,
   "metadata": {},
   "outputs": [],
   "source": [
    "from matplotlib import pyplot as plt\n",
    "from matplotlib.image import imread\n",
    "import tensorflow as tf\n",
    "from tensorflow import keras\n",
    "from keras.preprocessing.image import ImageDataGenerator\n",
    "from tensorflow.keras.models import Sequential\n",
    "from tensorflow.keras.layers import BatchNormalization\n",
    "from tensorflow.keras.optimizers import Adam\n",
    "from tensorflow.keras.callbacks import EarlyStopping, ModelCheckpoint\n",
    "from keras import backend\n",
    "from keras.layers.convolutional import Conv2D, MaxPooling2D\n",
    "from keras.layers.core import Dense, Flatten\n",
    "from keras.optimizers import Adam \n",
    "\n",
    "\n",
    "%matplotlib inline"
   ]
  },
  {
   "cell_type": "code",
   "execution_count": 82,
   "metadata": {},
   "outputs": [
    {
     "data": {
      "text/html": [
       "<div>\n",
       "<style scoped>\n",
       "    .dataframe tbody tr th:only-of-type {\n",
       "        vertical-align: middle;\n",
       "    }\n",
       "\n",
       "    .dataframe tbody tr th {\n",
       "        vertical-align: top;\n",
       "    }\n",
       "\n",
       "    .dataframe thead th {\n",
       "        text-align: right;\n",
       "    }\n",
       "</style>\n",
       "<table border=\"1\" class=\"dataframe\">\n",
       "  <thead>\n",
       "    <tr style=\"text-align: right;\">\n",
       "      <th></th>\n",
       "      <th>image_name</th>\n",
       "      <th>tags</th>\n",
       "    </tr>\n",
       "  </thead>\n",
       "  <tbody>\n",
       "    <tr>\n",
       "      <th>0</th>\n",
       "      <td>train_0</td>\n",
       "      <td>haze primary</td>\n",
       "    </tr>\n",
       "    <tr>\n",
       "      <th>1</th>\n",
       "      <td>train_1</td>\n",
       "      <td>agriculture clear primary water</td>\n",
       "    </tr>\n",
       "    <tr>\n",
       "      <th>2</th>\n",
       "      <td>train_2</td>\n",
       "      <td>clear primary</td>\n",
       "    </tr>\n",
       "    <tr>\n",
       "      <th>3</th>\n",
       "      <td>train_3</td>\n",
       "      <td>clear primary</td>\n",
       "    </tr>\n",
       "    <tr>\n",
       "      <th>4</th>\n",
       "      <td>train_4</td>\n",
       "      <td>agriculture clear habitation primary road</td>\n",
       "    </tr>\n",
       "  </tbody>\n",
       "</table>\n",
       "</div>"
      ],
      "text/plain": [
       "  image_name                                       tags\n",
       "0    train_0                               haze primary\n",
       "1    train_1            agriculture clear primary water\n",
       "2    train_2                              clear primary\n",
       "3    train_3                              clear primary\n",
       "4    train_4  agriculture clear habitation primary road"
      ]
     },
     "execution_count": 82,
     "metadata": {},
     "output_type": "execute_result"
    }
   ],
   "source": [
    "# the training data\n",
    "df_train = pd.read_csv(\"../input/planets-dataset/planet/planet/train_classes.csv\")\n",
    "df_train.head()"
   ]
  },
  {
   "cell_type": "code",
   "execution_count": 83,
   "metadata": {},
   "outputs": [],
   "source": [
    "# to view the labels in each tag\n",
    "flatten = lambda l: [item for sublist in l for item in sublist]\n",
    "labels = list(set(flatten([l.split(' ') for l in df_train['tags'].values])))\n"
   ]
  },
  {
   "cell_type": "code",
   "execution_count": 84,
   "metadata": {},
   "outputs": [
    {
     "data": {
      "text/plain": [
       "['partly_cloudy',\n",
       " 'road',\n",
       " 'water',\n",
       " 'clear',\n",
       " 'blooming',\n",
       " 'habitation',\n",
       " 'cultivation',\n",
       " 'selective_logging',\n",
       " 'conventional_mine',\n",
       " 'slash_burn',\n",
       " 'artisinal_mine',\n",
       " 'cloudy',\n",
       " 'haze',\n",
       " 'primary',\n",
       " 'blow_down',\n",
       " 'bare_ground',\n",
       " 'agriculture']"
      ]
     },
     "execution_count": 84,
     "metadata": {},
     "output_type": "execute_result"
    }
   ],
   "source": [
    "labels"
   ]
  },
  {
   "cell_type": "code",
   "execution_count": 85,
   "metadata": {},
   "outputs": [
    {
     "data": {
      "text/html": [
       "<div>\n",
       "<style scoped>\n",
       "    .dataframe tbody tr th:only-of-type {\n",
       "        vertical-align: middle;\n",
       "    }\n",
       "\n",
       "    .dataframe tbody tr th {\n",
       "        vertical-align: top;\n",
       "    }\n",
       "\n",
       "    .dataframe thead th {\n",
       "        text-align: right;\n",
       "    }\n",
       "</style>\n",
       "<table border=\"1\" class=\"dataframe\">\n",
       "  <thead>\n",
       "    <tr style=\"text-align: right;\">\n",
       "      <th></th>\n",
       "      <th>image_name</th>\n",
       "      <th>tags</th>\n",
       "    </tr>\n",
       "  </thead>\n",
       "  <tbody>\n",
       "    <tr>\n",
       "      <th>0</th>\n",
       "      <td>test_0</td>\n",
       "      <td>primary clear agriculture road water</td>\n",
       "    </tr>\n",
       "    <tr>\n",
       "      <th>1</th>\n",
       "      <td>test_1</td>\n",
       "      <td>primary clear agriculture road water</td>\n",
       "    </tr>\n",
       "    <tr>\n",
       "      <th>2</th>\n",
       "      <td>test_2</td>\n",
       "      <td>primary clear agriculture road water</td>\n",
       "    </tr>\n",
       "    <tr>\n",
       "      <th>3</th>\n",
       "      <td>test_3</td>\n",
       "      <td>primary clear agriculture road water</td>\n",
       "    </tr>\n",
       "    <tr>\n",
       "      <th>4</th>\n",
       "      <td>test_4</td>\n",
       "      <td>primary clear agriculture road water</td>\n",
       "    </tr>\n",
       "  </tbody>\n",
       "</table>\n",
       "</div>"
      ],
      "text/plain": [
       "  image_name                                  tags\n",
       "0     test_0  primary clear agriculture road water\n",
       "1     test_1  primary clear agriculture road water\n",
       "2     test_2  primary clear agriculture road water\n",
       "3     test_3  primary clear agriculture road water\n",
       "4     test_4  primary clear agriculture road water"
      ]
     },
     "execution_count": 85,
     "metadata": {},
     "output_type": "execute_result"
    }
   ],
   "source": [
    "# checking the sample submission file\n",
    "df_test = pd.read_csv('../input/planets-dataset/planet/planet/sample_submission.csv')\n",
    "df_test.head()"
   ]
  },
  {
   "cell_type": "markdown",
   "metadata": {},
   "source": [
    "### Lets have a look at the training images"
   ]
  },
  {
   "cell_type": "code",
   "execution_count": 86,
   "metadata": {},
   "outputs": [],
   "source": [
    "# train image path definition\n",
    "image_path = \"../input/planets-dataset/planet/planet/train-jpg/\""
   ]
  },
  {
   "cell_type": "code",
   "execution_count": 87,
   "metadata": {},
   "outputs": [
    {
     "ename": "ValueError",
     "evalue": "num must be 1 <= num <= 12, not 0",
     "output_type": "error",
     "traceback": [
      "\u001b[0;31m---------------------------------------------------------------------------\u001b[0m",
      "\u001b[0;31mValueError\u001b[0m                                Traceback (most recent call last)",
      "\u001b[0;32m<ipython-input-87-8d070b14e4bf>\u001b[0m in \u001b[0;36m<module>\u001b[0;34m\u001b[0m\n\u001b[1;32m      1\u001b[0m \u001b[0;31m#having a look at the some of the images\u001b[0m\u001b[0;34m\u001b[0m\u001b[0;34m\u001b[0m\u001b[0;34m\u001b[0m\u001b[0m\n\u001b[1;32m      2\u001b[0m \u001b[0;32mfor\u001b[0m \u001b[0mi\u001b[0m \u001b[0;32min\u001b[0m \u001b[0mrange\u001b[0m\u001b[0;34m(\u001b[0m\u001b[0;36m12\u001b[0m\u001b[0;34m)\u001b[0m\u001b[0;34m:\u001b[0m\u001b[0;34m\u001b[0m\u001b[0;34m\u001b[0m\u001b[0m\n\u001b[0;32m----> 3\u001b[0;31m     \u001b[0mplt\u001b[0m\u001b[0;34m.\u001b[0m\u001b[0msubplot\u001b[0m\u001b[0;34m(\u001b[0m\u001b[0;36m330\u001b[0m\u001b[0;34m+\u001b[0m \u001b[0;36m1\u001b[0m \u001b[0;34m+\u001b[0m \u001b[0mi\u001b[0m\u001b[0;34m)\u001b[0m\u001b[0;34m\u001b[0m\u001b[0;34m\u001b[0m\u001b[0m\n\u001b[0m\u001b[1;32m      4\u001b[0m     \u001b[0;31m#filename definition\u001b[0m\u001b[0;34m\u001b[0m\u001b[0;34m\u001b[0m\u001b[0;34m\u001b[0m\u001b[0m\n\u001b[1;32m      5\u001b[0m     \u001b[0mfilename\u001b[0m  \u001b[0;34m=\u001b[0m \u001b[0mimage_path\u001b[0m \u001b[0;34m+\u001b[0m \u001b[0;34m\"train\"\u001b[0m \u001b[0;34m+\u001b[0m \u001b[0;34m\"_\"\u001b[0m  \u001b[0;34m+\u001b[0m \u001b[0mstr\u001b[0m\u001b[0;34m(\u001b[0m\u001b[0mi\u001b[0m\u001b[0;34m)\u001b[0m  \u001b[0;34m+\u001b[0m \u001b[0;34m\".jpg\"\u001b[0m\u001b[0;34m\u001b[0m\u001b[0;34m\u001b[0m\u001b[0m\n",
      "\u001b[0;32m/opt/conda/lib/python3.7/site-packages/matplotlib/pyplot.py\u001b[0m in \u001b[0;36msubplot\u001b[0;34m(*args, **kwargs)\u001b[0m\n\u001b[1;32m   1028\u001b[0m \u001b[0;34m\u001b[0m\u001b[0m\n\u001b[1;32m   1029\u001b[0m     \u001b[0mfig\u001b[0m \u001b[0;34m=\u001b[0m \u001b[0mgcf\u001b[0m\u001b[0;34m(\u001b[0m\u001b[0;34m)\u001b[0m\u001b[0;34m\u001b[0m\u001b[0;34m\u001b[0m\u001b[0m\n\u001b[0;32m-> 1030\u001b[0;31m     \u001b[0ma\u001b[0m \u001b[0;34m=\u001b[0m \u001b[0mfig\u001b[0m\u001b[0;34m.\u001b[0m\u001b[0madd_subplot\u001b[0m\u001b[0;34m(\u001b[0m\u001b[0;34m*\u001b[0m\u001b[0margs\u001b[0m\u001b[0;34m,\u001b[0m \u001b[0;34m**\u001b[0m\u001b[0mkwargs\u001b[0m\u001b[0;34m)\u001b[0m\u001b[0;34m\u001b[0m\u001b[0;34m\u001b[0m\u001b[0m\n\u001b[0m\u001b[1;32m   1031\u001b[0m     \u001b[0mbbox\u001b[0m \u001b[0;34m=\u001b[0m \u001b[0ma\u001b[0m\u001b[0;34m.\u001b[0m\u001b[0mbbox\u001b[0m\u001b[0;34m\u001b[0m\u001b[0;34m\u001b[0m\u001b[0m\n\u001b[1;32m   1032\u001b[0m     \u001b[0mbyebye\u001b[0m \u001b[0;34m=\u001b[0m \u001b[0;34m[\u001b[0m\u001b[0;34m]\u001b[0m\u001b[0;34m\u001b[0m\u001b[0;34m\u001b[0m\u001b[0m\n",
      "\u001b[0;32m/opt/conda/lib/python3.7/site-packages/matplotlib/figure.py\u001b[0m in \u001b[0;36madd_subplot\u001b[0;34m(self, *args, **kwargs)\u001b[0m\n\u001b[1;32m   1417\u001b[0m                     \u001b[0mself\u001b[0m\u001b[0;34m.\u001b[0m\u001b[0m_axstack\u001b[0m\u001b[0;34m.\u001b[0m\u001b[0mremove\u001b[0m\u001b[0;34m(\u001b[0m\u001b[0max\u001b[0m\u001b[0;34m)\u001b[0m\u001b[0;34m\u001b[0m\u001b[0;34m\u001b[0m\u001b[0m\n\u001b[1;32m   1418\u001b[0m \u001b[0;34m\u001b[0m\u001b[0m\n\u001b[0;32m-> 1419\u001b[0;31m             \u001b[0ma\u001b[0m \u001b[0;34m=\u001b[0m \u001b[0msubplot_class_factory\u001b[0m\u001b[0;34m(\u001b[0m\u001b[0mprojection_class\u001b[0m\u001b[0;34m)\u001b[0m\u001b[0;34m(\u001b[0m\u001b[0mself\u001b[0m\u001b[0;34m,\u001b[0m \u001b[0;34m*\u001b[0m\u001b[0margs\u001b[0m\u001b[0;34m,\u001b[0m \u001b[0;34m**\u001b[0m\u001b[0mkwargs\u001b[0m\u001b[0;34m)\u001b[0m\u001b[0;34m\u001b[0m\u001b[0;34m\u001b[0m\u001b[0m\n\u001b[0m\u001b[1;32m   1420\u001b[0m \u001b[0;34m\u001b[0m\u001b[0m\n\u001b[1;32m   1421\u001b[0m         \u001b[0;32mreturn\u001b[0m \u001b[0mself\u001b[0m\u001b[0;34m.\u001b[0m\u001b[0m_add_axes_internal\u001b[0m\u001b[0;34m(\u001b[0m\u001b[0mkey\u001b[0m\u001b[0;34m,\u001b[0m \u001b[0ma\u001b[0m\u001b[0;34m)\u001b[0m\u001b[0;34m\u001b[0m\u001b[0;34m\u001b[0m\u001b[0m\n",
      "\u001b[0;32m/opt/conda/lib/python3.7/site-packages/matplotlib/axes/_subplots.py\u001b[0m in \u001b[0;36m__init__\u001b[0;34m(self, fig, *args, **kwargs)\u001b[0m\n\u001b[1;32m     64\u001b[0m                 \u001b[0;32mif\u001b[0m \u001b[0mnum\u001b[0m \u001b[0;34m<\u001b[0m \u001b[0;36m1\u001b[0m \u001b[0;32mor\u001b[0m \u001b[0mnum\u001b[0m \u001b[0;34m>\u001b[0m \u001b[0mrows\u001b[0m\u001b[0;34m*\u001b[0m\u001b[0mcols\u001b[0m\u001b[0;34m:\u001b[0m\u001b[0;34m\u001b[0m\u001b[0;34m\u001b[0m\u001b[0m\n\u001b[1;32m     65\u001b[0m                     raise ValueError(\n\u001b[0;32m---> 66\u001b[0;31m                         f\"num must be 1 <= num <= {rows*cols}, not {num}\")\n\u001b[0m\u001b[1;32m     67\u001b[0m                 self._subplotspec = GridSpec(\n\u001b[1;32m     68\u001b[0m                         rows, cols, figure=self.figure)[int(num) - 1]\n",
      "\u001b[0;31mValueError\u001b[0m: num must be 1 <= num <= 12, not 0"
     ]
    },
    {
     "data": {
      "image/png": "[encoded data removed]",
      "text/plain": [
       "<Figure size 432x288 with 9 Axes>"
      ]
     },
     "metadata": {
      "needs_background": "light"
     },
     "output_type": "display_data"
    }
   ],
   "source": [
    "#having a look at the some of the images\n",
    "for i in range(12):\n",
    "    plt.subplot(330+ 1 + i)\n",
    "    #filename definition\n",
    "    filename  = image_path + \"train\" + \"_\"  + str(i)  + \".jpg\"\n",
    "    #load image\n",
    "    img = imread(filename)\n",
    "    plt.imshow(img)\n",
    "plt.show()"
   ]
  },
  {
   "cell_type": "markdown",
   "metadata": {},
   "source": [
    "### The test files, comparing the length of the two test files with the sample submission file"
   ]
  },
  {
   "cell_type": "code",
   "execution_count": 89,
   "metadata": {},
   "outputs": [],
   "source": [
    "test1 = !ls ../input/planets-dataset/planet/planet/test-jpg | wc -l\n",
    "test2 = !ls ../input/planets-dataset/test-jpg-additional/test-jpg-additional | wc -l\n",
    "assert sample_submission.shape[0] == float(test1[0])+float(test2[0])"
   ]
  },
  {
   "cell_type": "code",
   "execution_count": 90,
   "metadata": {},
   "outputs": [
    {
     "name": "stdout",
     "output_type": "stream",
     "text": [
      "(256, 256, 3)\n"
     ]
    },
    {
     "data": {
      "image/png": "[encoded data removed]",
      "text/plain": [
       "<Figure size 432x288 with 5 Axes>"
      ]
     },
     "metadata": {
      "needs_background": "light"
     },
     "output_type": "display_data"
    }
   ],
   "source": [
    "from skimage import io\n",
    "for i in range(5):\n",
    "    image = io.imread(image_path+'train_{}.jpg'.format(i))\n",
    "    plt.subplot(330+ 1 + i)\n",
    "    plt.imshow(image)\n",
    "print(image.shape)"
   ]
  },
  {
   "cell_type": "code",
   "execution_count": 92,
   "metadata": {},
   "outputs": [
    {
     "data": {
      "text/html": [
       "<div>\n",
       "<style scoped>\n",
       "    .dataframe tbody tr th:only-of-type {\n",
       "        vertical-align: middle;\n",
       "    }\n",
       "\n",
       "    .dataframe tbody tr th {\n",
       "        vertical-align: top;\n",
       "    }\n",
       "\n",
       "    .dataframe thead th {\n",
       "        text-align: right;\n",
       "    }\n",
       "</style>\n",
       "<table border=\"1\" class=\"dataframe\">\n",
       "  <thead>\n",
       "    <tr style=\"text-align: right;\">\n",
       "      <th></th>\n",
       "      <th>image_name</th>\n",
       "      <th>tags</th>\n",
       "      <th>partly_cloudy</th>\n",
       "      <th>road</th>\n",
       "      <th>water</th>\n",
       "      <th>clear</th>\n",
       "      <th>blooming</th>\n",
       "      <th>habitation</th>\n",
       "      <th>cultivation</th>\n",
       "      <th>selective_logging</th>\n",
       "      <th>conventional_mine</th>\n",
       "      <th>slash_burn</th>\n",
       "      <th>artisinal_mine</th>\n",
       "      <th>cloudy</th>\n",
       "      <th>haze</th>\n",
       "      <th>primary</th>\n",
       "      <th>blow_down</th>\n",
       "      <th>bare_ground</th>\n",
       "      <th>agriculture</th>\n",
       "    </tr>\n",
       "  </thead>\n",
       "  <tbody>\n",
       "    <tr>\n",
       "      <th>0</th>\n",
       "      <td>train_0.jpg</td>\n",
       "      <td>haze primary</td>\n",
       "      <td>0</td>\n",
       "      <td>0</td>\n",
       "      <td>0</td>\n",
       "      <td>0</td>\n",
       "      <td>0</td>\n",
       "      <td>0</td>\n",
       "      <td>0</td>\n",
       "      <td>0</td>\n",
       "      <td>0</td>\n",
       "      <td>0</td>\n",
       "      <td>0</td>\n",
       "      <td>0</td>\n",
       "      <td>1</td>\n",
       "      <td>1</td>\n",
       "      <td>0</td>\n",
       "      <td>0</td>\n",
       "      <td>0</td>\n",
       "    </tr>\n",
       "    <tr>\n",
       "      <th>1</th>\n",
       "      <td>train_1.jpg</td>\n",
       "      <td>agriculture clear primary water</td>\n",
       "      <td>0</td>\n",
       "      <td>0</td>\n",
       "      <td>1</td>\n",
       "      <td>1</td>\n",
       "      <td>0</td>\n",
       "      <td>0</td>\n",
       "      <td>0</td>\n",
       "      <td>0</td>\n",
       "      <td>0</td>\n",
       "      <td>0</td>\n",
       "      <td>0</td>\n",
       "      <td>0</td>\n",
       "      <td>0</td>\n",
       "      <td>1</td>\n",
       "      <td>0</td>\n",
       "      <td>0</td>\n",
       "      <td>1</td>\n",
       "    </tr>\n",
       "    <tr>\n",
       "      <th>2</th>\n",
       "      <td>train_2.jpg</td>\n",
       "      <td>clear primary</td>\n",
       "      <td>0</td>\n",
       "      <td>0</td>\n",
       "      <td>0</td>\n",
       "      <td>1</td>\n",
       "      <td>0</td>\n",
       "      <td>0</td>\n",
       "      <td>0</td>\n",
       "      <td>0</td>\n",
       "      <td>0</td>\n",
       "      <td>0</td>\n",
       "      <td>0</td>\n",
       "      <td>0</td>\n",
       "      <td>0</td>\n",
       "      <td>1</td>\n",
       "      <td>0</td>\n",
       "      <td>0</td>\n",
       "      <td>0</td>\n",
       "    </tr>\n",
       "    <tr>\n",
       "      <th>3</th>\n",
       "      <td>train_3.jpg</td>\n",
       "      <td>clear primary</td>\n",
       "      <td>0</td>\n",
       "      <td>0</td>\n",
       "      <td>0</td>\n",
       "      <td>1</td>\n",
       "      <td>0</td>\n",
       "      <td>0</td>\n",
       "      <td>0</td>\n",
       "      <td>0</td>\n",
       "      <td>0</td>\n",
       "      <td>0</td>\n",
       "      <td>0</td>\n",
       "      <td>0</td>\n",
       "      <td>0</td>\n",
       "      <td>1</td>\n",
       "      <td>0</td>\n",
       "      <td>0</td>\n",
       "      <td>0</td>\n",
       "    </tr>\n",
       "    <tr>\n",
       "      <th>4</th>\n",
       "      <td>train_4.jpg</td>\n",
       "      <td>agriculture clear habitation primary road</td>\n",
       "      <td>0</td>\n",
       "      <td>1</td>\n",
       "      <td>0</td>\n",
       "      <td>1</td>\n",
       "      <td>0</td>\n",
       "      <td>1</td>\n",
       "      <td>0</td>\n",
       "      <td>0</td>\n",
       "      <td>0</td>\n",
       "      <td>0</td>\n",
       "      <td>0</td>\n",
       "      <td>0</td>\n",
       "      <td>0</td>\n",
       "      <td>1</td>\n",
       "      <td>0</td>\n",
       "      <td>0</td>\n",
       "      <td>1</td>\n",
       "    </tr>\n",
       "  </tbody>\n",
       "</table>\n",
       "</div>"
      ],
      "text/plain": [
       "    image_name                                       tags  partly_cloudy  \\\n",
       "0  train_0.jpg                               haze primary              0   \n",
       "1  train_1.jpg            agriculture clear primary water              0   \n",
       "2  train_2.jpg                              clear primary              0   \n",
       "3  train_3.jpg                              clear primary              0   \n",
       "4  train_4.jpg  agriculture clear habitation primary road              0   \n",
       "\n",
       "   road  water  clear  blooming  habitation  cultivation  selective_logging  \\\n",
       "0     0      0      0         0           0            0                  0   \n",
       "1     0      1      1         0           0            0                  0   \n",
       "2     0      0      1         0           0            0                  0   \n",
       "3     0      0      1         0           0            0                  0   \n",
       "4     1      0      1         0           1            0                  0   \n",
       "\n",
       "   conventional_mine  slash_burn  artisinal_mine  cloudy  haze  primary  \\\n",
       "0                  0           0               0       0     1        1   \n",
       "1                  0           0               0       0     0        1   \n",
       "2                  0           0               0       0     0        1   \n",
       "3                  0           0               0       0     0        1   \n",
       "4                  0           0               0       0     0        1   \n",
       "\n",
       "   blow_down  bare_ground  agriculture  \n",
       "0          0            0            0  \n",
       "1          0            0            1  \n",
       "2          0            0            0  \n",
       "3          0            0            0  \n",
       "4          0            0            1  "
      ]
     },
     "execution_count": 92,
     "metadata": {},
     "output_type": "execute_result"
    }
   ],
   "source": [
    "# vectorizing the labels in the df_train\n",
    "for tag in labels:\n",
    "    df_train[tag] = df_train['tags'].apply(lambda x: 1 if tag in x.split() else 0)\n",
    "    \n",
    "# adding '.jpg' extension to 'image_name'\n",
    "df_train['image_name'] = df_train['image_name'].apply(lambda x: '{}.jpg'.format(x)) \n",
    "df_train.head()"
   ]
  },
  {
   "cell_type": "code",
   "execution_count": 93,
   "metadata": {},
   "outputs": [
    {
     "data": {
      "text/html": [
       "<div>\n",
       "<style scoped>\n",
       "    .dataframe tbody tr th:only-of-type {\n",
       "        vertical-align: middle;\n",
       "    }\n",
       "\n",
       "    .dataframe tbody tr th {\n",
       "        vertical-align: top;\n",
       "    }\n",
       "\n",
       "    .dataframe thead th {\n",
       "        text-align: right;\n",
       "    }\n",
       "</style>\n",
       "<table border=\"1\" class=\"dataframe\">\n",
       "  <thead>\n",
       "    <tr style=\"text-align: right;\">\n",
       "      <th></th>\n",
       "      <th>image_name</th>\n",
       "      <th>tags</th>\n",
       "    </tr>\n",
       "  </thead>\n",
       "  <tbody>\n",
       "    <tr>\n",
       "      <th>0</th>\n",
       "      <td>test_0.jpg</td>\n",
       "      <td>primary clear agriculture road water</td>\n",
       "    </tr>\n",
       "    <tr>\n",
       "      <th>1</th>\n",
       "      <td>test_1.jpg</td>\n",
       "      <td>primary clear agriculture road water</td>\n",
       "    </tr>\n",
       "    <tr>\n",
       "      <th>2</th>\n",
       "      <td>test_2.jpg</td>\n",
       "      <td>primary clear agriculture road water</td>\n",
       "    </tr>\n",
       "    <tr>\n",
       "      <th>3</th>\n",
       "      <td>test_3.jpg</td>\n",
       "      <td>primary clear agriculture road water</td>\n",
       "    </tr>\n",
       "    <tr>\n",
       "      <th>4</th>\n",
       "      <td>test_4.jpg</td>\n",
       "      <td>primary clear agriculture road water</td>\n",
       "    </tr>\n",
       "  </tbody>\n",
       "</table>\n",
       "</div>"
      ],
      "text/plain": [
       "   image_name                                  tags\n",
       "0  test_0.jpg  primary clear agriculture road water\n",
       "1  test_1.jpg  primary clear agriculture road water\n",
       "2  test_2.jpg  primary clear agriculture road water\n",
       "3  test_3.jpg  primary clear agriculture road water\n",
       "4  test_4.jpg  primary clear agriculture road water"
      ]
     },
     "execution_count": 93,
     "metadata": {},
     "output_type": "execute_result"
    }
   ],
   "source": [
    "df_test['image_name'] = df_test['image_name'].apply(lambda x: '{}.jpg'.format(x))\n",
    "df_test.head()"
   ]
  },
  {
   "cell_type": "code",
   "execution_count": 94,
   "metadata": {},
   "outputs": [
    {
     "name": "stdout",
     "output_type": "stream",
     "text": [
      "Found 40479 validated image filenames.\n",
      "CPU times: user 843 ms, sys: 801 ms, total: 1.64 s\n",
      "Wall time: 7.25 s\n"
     ]
    }
   ],
   "source": [
    "%%time\n",
    "y_col = list(df_train.columns[2:]) \n",
    "\n",
    "#instatiate  data generator object\n",
    "datagen = ImageDataGenerator(rescale=1.0/255.0)\n",
    "\n",
    "# load images from dataframe\n",
    "X = datagen.flow_from_dataframe(dataframe=df_train,\n",
    "                                directory=image_path,\n",
    "                                x_col='image_name', y_col=y_col,\n",
    "                                target_size=(128, 128), \n",
    "                                class_mode='raw', seed=1,\n",
    "                                batch_size=128)\n"
   ]
  },
  {
   "cell_type": "code",
   "execution_count": 96,
   "metadata": {},
   "outputs": [],
   "source": [
    "#using Fbeta consider the evaluation metric\n",
    "#using a function\n",
    "\n",
    "def fbeta(ytrue , ypred, beta=2, epsilon=1e-4):\n",
    "    beta_squarred = beta**2\n",
    "\n",
    "    ytrue = tf.cast(ytrue, tf.float32)\n",
    "    ypred = tf.cast(tf.greater(tf.cast(ypred, tf.float32), tf.constant(0.5)), tf.float32)\n",
    "        \n",
    "    tp = tf.reduce_sum(ytrue * ypred, axis=1)\n",
    "    fp = tf.reduce_sum(ypred, axis=1) - tp\n",
    "    fn = tf.reduce_sum(ytrue, axis=1) - tp\n",
    "    \n",
    "    precision = tp/(tp+fp+epsilon)\n",
    "    recall = tp/(tp+fn+epsilon)\n",
    "    \n",
    "    fb = (1+beta_squarred)*precision*recall / (beta_squarred*precision + recall + epsilon)\n",
    "    return fb"
   ]
  },
  {
   "cell_type": "markdown",
   "metadata": {},
   "source": [
    "### Multi-label accuracy detector"
   ]
  },
  {
   "cell_type": "code",
   "execution_count": 98,
   "metadata": {},
   "outputs": [],
   "source": [
    "def multi_label_acc(ytrue , ypred, epsilon=1e-4):\n",
    "    \n",
    "    ytrue = tf.cast(ytrue, tf.float32)\n",
    "    ypred = tf.cast(tf.greater(tf.cast(ypred, tf.float32), tf.constant(0.5)), tf.float32)\n",
    "    \n",
    "    tp = tf.reduce_sum(ytrue * ypred, axis=1)\n",
    "    fp = tf.reduce_sum(ypred, axis=1) - tp\n",
    "    fn = tf.reduce_sum(ytrue, axis=1) - tp\n",
    "    \n",
    "    ytrue = tf.cast(ytrue, tf.bool)\n",
    "    ypred = tf.cast(ypred, tf.bool)\n",
    "    \n",
    "    tn = tf.reduce_sum(tf.cast(tf.logical_not(ytrue),tf.float32) * tf.cast(tf.logical_not(ypred),tf.float32),\n",
    "                       axis=1)\n",
    "    \n",
    "    return (tp+tn)/(tp+tn+fp+fn+epsilon)"
   ]
  },
  {
   "cell_type": "markdown",
   "metadata": {},
   "source": [
    "#### creating base convnet\n",
    "****"
   ]
  },
  {
   "cell_type": "markdown",
   "metadata": {},
   "source": [
    "### Creating a model"
   ]
  },
  {
   "cell_type": "code",
   "execution_count": 99,
   "metadata": {},
   "outputs": [],
   "source": [
    "def model():\n",
    "    model = Sequential()\n",
    "    #add convolution layer\n",
    "    model.add(Conv2D(32,(3,3),activation =\"relu\",padding = \"same\",kernel_initializer =\"he_uniform\", input_shape =[64,64,3]))\n",
    "    model.add(Conv2D(32,(3,3), activation =\"relu\",padding = \"same\",kernel_initializer =\"he_uniform\"))\n",
    "\n",
    "    #add pooling layer\n",
    "    model.add(MaxPooling2D((2,2)))\n",
    "    #add another convolutional layer 2\n",
    "    model.add(Conv2D(64,(3,3),activation =\"relu\",padding = \"same\",kernel_initializer =\"he_uniform\"))\n",
    "    model.add(Conv2D(64,(3,3), activation =\"relu\",padding = \"same\",kernel_initializer =\"he_uniform\"))\n",
    "    #add pooling layer\n",
    "    model.add(MaxPooling2D((2,2)))\n",
    "    \n",
    "    \n",
    "    #add another convolutional layer 3\n",
    "    model.add(Conv2D(128,(3,3),activation =\"relu\",padding = \"same\",kernel_initializer =\"he_uniform\"))\n",
    "    model.add(Conv2D(128,(3,3), activation =\"relu\",padding = \"same\",kernel_initializer =\"he_uniform\"))\n",
    "    #add pooling layer\n",
    "    model.add(MaxPooling2D((2,2)))\n",
    "    \n",
    "    #add another convolutional layer 4\n",
    "    model.add(Conv2D(256,(3,3),activation =\"relu\",padding = \"same\",kernel_initializer =\"he_uniform\"))\n",
    "    model.add(Conv2D(256,(3,3), activation =\"relu\",padding = \"same\",kernel_initializer =\"he_uniform\"))\n",
    "    #add pooling layer\n",
    "    model.add(MaxPooling2D((2,2)))\n",
    "    \n",
    "\n",
    "    #add a flattening layer\n",
    "    model.add(Flatten())\n",
    "    #add a fully connected layer\n",
    "    model.add(Dense(128,activation =\"relu\",kernel_initializer=\"he_uniform\"))\n",
    "    model.add(Dense(17,activation =\"sigmoid\"))\n",
    "    optimizer = Adam()\n",
    "    model.compile(optimizer = optimizer, loss = \"binary_crossentropy\", metrics =[fbeta])\n",
    "\n",
    "    return model\n",
    "    "
   ]
  },
  {
   "cell_type": "code",
   "execution_count": 100,
   "metadata": {},
   "outputs": [],
   "source": [
    "checkpoint = ModelCheckpoint(filepath='best_model.hdf5',\n",
    "                                        monitor='val_fbeta',                                        \n",
    "                                        mode='max', save_best_only=True,\n",
    "                                        save_weights_only=True)"
   ]
  },
  {
   "cell_type": "markdown",
   "metadata": {},
   "source": [
    "### image genearator for the data"
   ]
  },
  {
   "cell_type": "code",
   "execution_count": 101,
   "metadata": {},
   "outputs": [
    {
     "name": "stdout",
     "output_type": "stream",
     "text": [
      "Found 32384 validated image filenames.\n",
      "Found 8095 validated image filenames.\n"
     ]
    }
   ],
   "source": [
    "image_gen = ImageDataGenerator(rescale=1/255,validation_split=0.2,\n",
    "                               shear_range= 0.2,zoom_range= 0.2,\n",
    "                               horizontal_flip=True)\n",
    "\n",
    "# generating the 80% training image data\n",
    "train_ = image_gen.flow_from_dataframe(dataframe=df_train,\n",
    "                                          directory=image_path,\n",
    "                                          x_col='image_name', y_col=y_col,\n",
    "                                          target_size=(64, 64),\n",
    "                                          class_mode='raw', seed=0,\n",
    "                                          batch_size=64, subset='training')\n",
    "\n",
    "# generating the 20% validation image data\n",
    "val_ = image_gen.flow_from_dataframe(dataframe=df_train,\n",
    "                                        directory=image_path, x_col='image_name',\n",
    "                                        y_col=y_col,target_size=(64, 64), \n",
    "                                        class_mode='raw', seed=0,\n",
    "                                        batch_size=64, subset='validation')"
   ]
  },
  {
   "cell_type": "markdown",
   "metadata": {},
   "source": [
    "### Setting step size "
   ]
  },
  {
   "cell_type": "code",
   "execution_count": 104,
   "metadata": {},
   "outputs": [
    {
     "data": {
      "text/plain": [
       "(506, 127)"
      ]
     },
     "execution_count": 104,
     "metadata": {},
     "output_type": "execute_result"
    }
   ],
   "source": [
    "train_step_size = int(np.ceil(train_gen.samples / train_.batch_size))\n",
    "val_step_size = int(np.ceil(val_.samples / train_.batch_size))\n",
    "train_step_size,val_step_size"
   ]
  },
  {
   "cell_type": "markdown",
   "metadata": {},
   "source": [
    "### Setting up the models\n",
    "\n",
    "> Model 1"
   ]
  },
  {
   "cell_type": "code",
   "execution_count": 105,
   "metadata": {},
   "outputs": [
    {
     "name": "stdout",
     "output_type": "stream",
     "text": [
      "Epoch 1/17\n",
      "506/506 [==============================] - 134s 265ms/step - loss: 0.2012 - fbeta: 0.7168 - val_loss: 0.1726 - val_fbeta: 0.7668\n",
      "Epoch 2/17\n",
      "506/506 [==============================] - 131s 259ms/step - loss: 0.1521 - fbeta: 0.8005 - val_loss: 0.1480 - val_fbeta: 0.8134\n",
      "Epoch 3/17\n",
      "506/506 [==============================] - 131s 260ms/step - loss: 0.1398 - fbeta: 0.8201 - val_loss: 0.1315 - val_fbeta: 0.8358\n",
      "Epoch 4/17\n",
      "506/506 [==============================] - 132s 260ms/step - loss: 0.1324 - fbeta: 0.8340 - val_loss: 0.1291 - val_fbeta: 0.8351\n",
      "Epoch 5/17\n",
      "506/506 [==============================] - 134s 264ms/step - loss: 0.1267 - fbeta: 0.8451 - val_loss: 0.1247 - val_fbeta: 0.8590\n",
      "Epoch 6/17\n",
      "506/506 [==============================] - 134s 264ms/step - loss: 0.1226 - fbeta: 0.8505 - val_loss: 0.1249 - val_fbeta: 0.8529\n",
      "Epoch 7/17\n",
      "506/506 [==============================] - 133s 264ms/step - loss: 0.1193 - fbeta: 0.8553 - val_loss: 0.1193 - val_fbeta: 0.8573\n",
      "Epoch 8/17\n",
      "506/506 [==============================] - 133s 264ms/step - loss: 0.1169 - fbeta: 0.8591 - val_loss: 0.1157 - val_fbeta: 0.8627\n",
      "Epoch 9/17\n",
      "506/506 [==============================] - 133s 263ms/step - loss: 0.1146 - fbeta: 0.8642 - val_loss: 0.1134 - val_fbeta: 0.8656\n",
      "Epoch 10/17\n",
      "506/506 [==============================] - 133s 264ms/step - loss: 0.1115 - fbeta: 0.8674 - val_loss: 0.1143 - val_fbeta: 0.8677\n",
      "Epoch 11/17\n",
      "506/506 [==============================] - 133s 263ms/step - loss: 0.1103 - fbeta: 0.8695 - val_loss: 0.1110 - val_fbeta: 0.8739\n",
      "Epoch 12/17\n",
      "506/506 [==============================] - 132s 260ms/step - loss: 0.1079 - fbeta: 0.8722 - val_loss: 0.1143 - val_fbeta: 0.8692\n",
      "Epoch 13/17\n",
      "506/506 [==============================] - 134s 265ms/step - loss: 0.1062 - fbeta: 0.8738 - val_loss: 0.1110 - val_fbeta: 0.8695\n",
      "Epoch 14/17\n",
      "506/506 [==============================] - 137s 271ms/step - loss: 0.1048 - fbeta: 0.8756 - val_loss: 0.1121 - val_fbeta: 0.8688\n",
      "Epoch 15/17\n",
      "506/506 [==============================] - 133s 263ms/step - loss: 0.1024 - fbeta: 0.8796 - val_loss: 0.1095 - val_fbeta: 0.8743\n",
      "Epoch 16/17\n",
      "506/506 [==============================] - 135s 266ms/step - loss: 0.1018 - fbeta: 0.8798 - val_loss: 0.1109 - val_fbeta: 0.8777\n",
      "Epoch 17/17\n",
      "506/506 [==============================] - 134s 265ms/step - loss: 0.1004 - fbeta: 0.8809 - val_loss: 0.1123 - val_fbeta: 0.8714\n"
     ]
    },
    {
     "data": {
      "text/plain": [
       "<tensorflow.python.keras.callbacks.History at 0x7ff02431a810>"
      ]
     },
     "execution_count": 105,
     "metadata": {},
     "output_type": "execute_result"
    }
   ],
   "source": [
    "model_1 = model() # building a sequential model for training\n",
    "\n",
    "model_1.fit(x=train_,\n",
    "           steps_per_epoch=train_step_size,\n",
    "           validation_data=val_, \n",
    "           validation_steps=val_step_size,\n",
    "           epochs=17, \n",
    "           callbacks=[checkpoint])"
   ]
  },
  {
   "cell_type": "markdown",
   "metadata": {},
   "source": [
    ">Model 2 for adding the weight"
   ]
  },
  {
   "cell_type": "code",
   "execution_count": 106,
   "metadata": {},
   "outputs": [],
   "source": [
    "model_2 = model() # building a sequential model for testing\n",
    "\n",
    "#loading in the weights of the trained model\n",
    "model_2.load_weights('best_model.hdf5') "
   ]
  },
  {
   "cell_type": "code",
   "execution_count": 107,
   "metadata": {},
   "outputs": [],
   "source": [
    "test_path = '../input/planets-dataset/planet/planet/test-jpg'"
   ]
  },
  {
   "cell_type": "code",
   "execution_count": 109,
   "metadata": {},
   "outputs": [],
   "source": [
    "# creating 2 test files , test_1, test_2\n",
    "# for the main test file\n",
    "test_1 = df_test.iloc[:40669]['image_name'].reset_index().drop('index',1)\n",
    "\n",
    "# for the additional test file\n",
    "test_2 = df_test.iloc[40669:]['image_name'].reset_index().drop('index',1)"
   ]
  },
  {
   "cell_type": "code",
   "execution_count": 111,
   "metadata": {},
   "outputs": [
    {
     "name": "stdout",
     "output_type": "stream",
     "text": [
      "Found 40669 validated image filenames.\n"
     ]
    }
   ],
   "source": [
    "# initializing an image data generator object for the first 40669 images in the sample submission dataframe\n",
    "\n",
    "test_gen = ImageDataGenerator(rescale=1/255)\n",
    "\n",
    "# generating the image data for the first 40669 images in the sample submission dataframe\n",
    "test_1_gen = test_gen.flow_from_dataframe(dataframe=test_1,\n",
    "                                         directory=test_path, x_col='image_name',\n",
    "                                         y_col=None,\n",
    "                                         batch_size=64, shuffle=False,\n",
    "                                         class_mode=None, target_size=(64, 64))\n",
    "\n",
    "# setting the step size for the testing set for the first 40669 images in the sample submission dataframe\n",
    "test_1_step = int(np.ceil(test_1_gen.samples / test_1_gen.batch_size))"
   ]
  },
  {
   "cell_type": "code",
   "execution_count": 113,
   "metadata": {},
   "outputs": [
    {
     "name": "stdout",
     "output_type": "stream",
     "text": [
      "636/636 [==============================] - 144s 226ms/step\n"
     ]
    }
   ],
   "source": [
    "test_1_gen.reset() # reseting the generator to be sure of avoiding shuffling\n",
    "pred_1 = model_2.predict(test_1_gen, \n",
    "                       steps=test_1_step, \n",
    "                       verbose=1) "
   ]
  },
  {
   "cell_type": "code",
   "execution_count": 116,
   "metadata": {},
   "outputs": [
    {
     "data": {
      "text/html": [
       "<div>\n",
       "<style scoped>\n",
       "    .dataframe tbody tr th:only-of-type {\n",
       "        vertical-align: middle;\n",
       "    }\n",
       "\n",
       "    .dataframe tbody tr th {\n",
       "        vertical-align: top;\n",
       "    }\n",
       "\n",
       "    .dataframe thead th {\n",
       "        text-align: right;\n",
       "    }\n",
       "</style>\n",
       "<table border=\"1\" class=\"dataframe\">\n",
       "  <thead>\n",
       "    <tr style=\"text-align: right;\">\n",
       "      <th></th>\n",
       "      <th>image_name</th>\n",
       "      <th>tags</th>\n",
       "    </tr>\n",
       "  </thead>\n",
       "  <tbody>\n",
       "    <tr>\n",
       "      <th>0</th>\n",
       "      <td>test_0.jpg</td>\n",
       "      <td>clear primary</td>\n",
       "    </tr>\n",
       "    <tr>\n",
       "      <th>1</th>\n",
       "      <td>test_1.jpg</td>\n",
       "      <td>clear primary</td>\n",
       "    </tr>\n",
       "    <tr>\n",
       "      <th>2</th>\n",
       "      <td>test_2.jpg</td>\n",
       "      <td>partly_cloudy primary</td>\n",
       "    </tr>\n",
       "    <tr>\n",
       "      <th>3</th>\n",
       "      <td>test_3.jpg</td>\n",
       "      <td>clear primary</td>\n",
       "    </tr>\n",
       "    <tr>\n",
       "      <th>4</th>\n",
       "      <td>test_4.jpg</td>\n",
       "      <td>partly_cloudy primary</td>\n",
       "    </tr>\n",
       "  </tbody>\n",
       "</table>\n",
       "</div>"
      ],
      "text/plain": [
       "   image_name                   tags\n",
       "0  test_0.jpg          clear primary\n",
       "1  test_1.jpg          clear primary\n",
       "2  test_2.jpg  partly_cloudy primary\n",
       "3  test_3.jpg          clear primary\n",
       "4  test_4.jpg  partly_cloudy primary"
      ]
     },
     "execution_count": 116,
     "metadata": {},
     "output_type": "execute_result"
    }
   ],
   "source": [
    "test_1_filenames = test_1_gen.filenames \n",
    "# converting the predictions of the first 40669 to tag names\n",
    "pred_1_tags = pd.DataFrame(pred_1)\n",
    "pred_1_tags = pred_1_tags.apply(lambda x: ' '.join(np.array(labels)[x > 0.5]), axis=1)\n",
    "\n",
    "# creating a new dataframe to store the predictions and the actual tags\n",
    "pred_1_df = pd.DataFrame({'image_name': test_1_filenames, 'tags': pred_1_tags})\n",
    "pred_1_df.head()"
   ]
  },
  {
   "cell_type": "code",
   "execution_count": 118,
   "metadata": {},
   "outputs": [
    {
     "name": "stdout",
     "output_type": "stream",
     "text": [
      "Found 20522 validated image filenames.\n"
     ]
    },
    {
     "data": {
      "text/plain": [
       "321"
      ]
     },
     "execution_count": 118,
     "metadata": {},
     "output_type": "execute_result"
    }
   ],
   "source": [
    "test_add = '../input/planets-dataset/test-jpg-additional/test-jpg-additional/'\n",
    "test_2_gen = test_gen.flow_from_dataframe(dataframe=test_2,\n",
    "                                                directory=test_add,\n",
    "                                                x_col='image_name',\n",
    "                                                y_col=None, \n",
    "                                                batch_size=64, shuffle=False, \n",
    "                                                class_mode=None, target_size=(64, 64))\n",
    "\n",
    "# setting the step size for the testing set for the remaining images in the sample submission dataframe\n",
    "test_2_step = int(np.ceil(test_2_gen.samples / test_2_gen.batch_size))\n",
    "test_2_step"
   ]
  },
  {
   "cell_type": "code",
   "execution_count": null,
   "metadata": {},
   "outputs": [
    {
     "name": "stdout",
     "output_type": "stream",
     "text": [
      "113/321 [=========>....................] - ETA: 46s"
     ]
    }
   ],
   "source": [
    "test_2_gen.reset() \n",
    "pred_2 = model_2.predict(test_2_gen, steps=test_2_step, verbose=1)\n",
    "test_2_filenames = test_2_gen.filenames  "
   ]
  },
  {
   "cell_type": "code",
   "execution_count": null,
   "metadata": {},
   "outputs": [],
   "source": [
    "# converting the predictions of the remaining images to tag names\n",
    "pred_2_tags = pd.DataFrame(pred_2)\n",
    "pred_2_tags = pred_2_tags.apply(lambda x: ' '.join(np.array(labels)[x > 0.5]), axis=1)"
   ]
  },
  {
   "cell_type": "code",
   "execution_count": null,
   "metadata": {},
   "outputs": [],
   "source": [
    "# creating new dataframe\n",
    "pred_2_df = pd.DataFrame({'image_name': test_2_filenames, 'tags': pred_2_tags})\n",
    "pred_2_df.head()"
   ]
  },
  {
   "cell_type": "code",
   "execution_count": null,
   "metadata": {},
   "outputs": [],
   "source": [
    "submission = pred_1_df.append(pred_2_df,ignore_index=True)\n",
    "    \n",
    "submission = submission.reset_index().drop('index', axis=1)\n",
    "print(submission.shape)\n",
    "submission.head()"
   ]
  },
  {
   "cell_type": "code",
   "execution_count": null,
   "metadata": {},
   "outputs": [],
   "source": [
    "# removing the .jpg extension from 'iamge_name' column\n",
    "submission['image_name'] = submission['image_name'].apply(lambda x: x[:-4])\n",
    "submission.head()"
   ]
  },
  {
   "cell_type": "code",
   "execution_count": null,
   "metadata": {},
   "outputs": [],
   "source": [
    "submission.to_csv('Summission.csv', index=False) # saving the predictions"
   ]
  },
  {
   "cell_type": "code",
   "execution_count": null,
   "metadata": {},
   "outputs": [],
   "source": []
  }
 ],
 "metadata": {
  "kernelspec": {
   "display_name": "Python 3",
   "language": "python",
   "name": "python3"
  },
  "language_info": {
   "codemirror_mode": {
    "name": "ipython",
    "version": 3
   },
   "file_extension": ".py",
   "mimetype": "text/x-python",
   "name": "python",
   "nbconvert_exporter": "python",
   "pygments_lexer": "ipython3",
   "version": "3.7.6"
  }
 },
 "nbformat": 4,
 "nbformat_minor": 4
}
