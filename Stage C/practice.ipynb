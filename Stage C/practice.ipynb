{
 "cells": [
  {
   "cell_type": "markdown",
   "metadata": {},
   "source": [
    "### Introduction \n",
    "\n",
    "\n",
    "Every year people demand more from nature than it can regenerate. Individuals, communities and government leaders use ecological footprint data to better manage limited resources, reduce economic risk, and improve well-being. The Dataset provides Ecological Footprint per capita data for years 1961-2016 in global hectares (gha). Ecological Footprint is a measure of how much area of biologically productive land and water an individual, population, or activity requires to produce all the resources it consumes and to absorb the waste it generates, using prevailing technology and resource management practices. The Ecological Footprint is measured in global hectares. Since trade is global, an individual or country's Footprint tracks area from all over the world. \n",
    "\n",
    "Apart from predicting numeric values, another important supervised machine learning method is classification and it involves predicting classes (either binary or multinomial classes). In this section, we will cover how to measure performances of class prediction, linear classification methods and non-linear/tree-based methods. We’ll also focus on strategies for applying a successful classification model like interpretability-accuracy trade-off, class and imbalance.\n",
    "\n",
    "*The National Footprint and Biocapacity Accounts (NFAs) measure the ecological resource use and resource capacity of nations from 1961 to 2016. The calculations in the National Footprint and Biocapacity Accounts are primarily based on United Nations data sets, including those published by the Food and Agriculture Organization, United Nations Commodity Trade Statistics Database, and the UN Statistics Division, as well as the International Energy Agency. In this project, we will use this data to classify and predict the quality metrics (qascore) of the ecological footprint data for the different countries. This data includes total and per capita national biocapacity, the ecological footprint of consumption, the ecological footprint of production and total area in hectares.*\n",
    "\n",
    "Data Source [here](https://data.world/footprint/nfa-2019-edition)"
   ]
  },
  {
   "cell_type": "markdown",
   "metadata": {},
   "source": [
    "### Linear classification and Logistic Regression\n",
    "\n",
    "__Linear classifiers__ \n",
    "For simplicity, we define a linear classifier as a binary classifier that separates two classes (positive and negative class) using a linear separator by computing a linear combination of the features and comparing against a set threshold.\n",
    "\n",
    "__Logistic regression__ is a linear algorithm that can be used for binary or multiclass classification. It is a discriminative classifier that estimates the probability that an instance belongs to a class using an s-shape function curve called the sigmoid function. \n"
   ]
  },
  {
   "cell_type": "code",
   "execution_count": 1,
   "metadata": {},
   "outputs": [],
   "source": [
    "import pandas as pd\n",
    "import numpy as np"
   ]
  },
  {
   "cell_type": "markdown",
   "metadata": {},
   "source": [
    ">collecting the data"
   ]
  },
  {
   "cell_type": "code",
   "execution_count": 2,
   "metadata": {},
   "outputs": [],
   "source": [
    "df = pd.read_csv('NFA 2019 Public_data.csv', low_memory =False)"
   ]
  },
  {
   "cell_type": "code",
   "execution_count": 3,
   "metadata": {},
   "outputs": [
    {
     "data": {
      "text/plain": [
       "(72186, 12)"
      ]
     },
     "execution_count": 3,
     "metadata": {},
     "output_type": "execute_result"
    }
   ],
   "source": [
    "df.shape"
   ]
  },
  {
   "cell_type": "code",
   "execution_count": 4,
   "metadata": {},
   "outputs": [
    {
     "name": "stdout",
     "output_type": "stream",
     "text": [
      "<class 'pandas.core.frame.DataFrame'>\n",
      "RangeIndex: 72186 entries, 0 to 72185\n",
      "Data columns (total 12 columns):\n",
      " #   Column          Non-Null Count  Dtype  \n",
      "---  ------          --------------  -----  \n",
      " 0   country         72186 non-null  object \n",
      " 1   year            72186 non-null  int64  \n",
      " 2   country_code    72186 non-null  int64  \n",
      " 3   record          72186 non-null  object \n",
      " 4   crop_land       51714 non-null  float64\n",
      " 5   grazing_land    51714 non-null  float64\n",
      " 6   forest_land     51714 non-null  object \n",
      " 7   fishing_ground  51713 non-null  float64\n",
      " 8   built_up_land   51713 non-null  float64\n",
      " 9   carbon          51713 non-null  float64\n",
      " 10  total           72177 non-null  float64\n",
      " 11  QScore          72185 non-null  object \n",
      "dtypes: float64(6), int64(2), object(4)\n",
      "memory usage: 6.6+ MB\n"
     ]
    }
   ],
   "source": [
    "df.info()"
   ]
  },
  {
   "cell_type": "code",
   "execution_count": 5,
   "metadata": {},
   "outputs": [
    {
     "data": {
      "text/html": [
       "<div>\n",
       "<style scoped>\n",
       "    .dataframe tbody tr th:only-of-type {\n",
       "        vertical-align: middle;\n",
       "    }\n",
       "\n",
       "    .dataframe tbody tr th {\n",
       "        vertical-align: top;\n",
       "    }\n",
       "\n",
       "    .dataframe thead th {\n",
       "        text-align: right;\n",
       "    }\n",
       "</style>\n",
       "<table border=\"1\" class=\"dataframe\">\n",
       "  <thead>\n",
       "    <tr style=\"text-align: right;\">\n",
       "      <th></th>\n",
       "      <th>country</th>\n",
       "      <th>year</th>\n",
       "      <th>country_code</th>\n",
       "      <th>record</th>\n",
       "      <th>crop_land</th>\n",
       "      <th>grazing_land</th>\n",
       "      <th>forest_land</th>\n",
       "      <th>fishing_ground</th>\n",
       "      <th>built_up_land</th>\n",
       "      <th>carbon</th>\n",
       "      <th>total</th>\n",
       "      <th>QScore</th>\n",
       "    </tr>\n",
       "  </thead>\n",
       "  <tbody>\n",
       "    <tr>\n",
       "      <th>0</th>\n",
       "      <td>Armenia</td>\n",
       "      <td>1992</td>\n",
       "      <td>1</td>\n",
       "      <td>AreaPerCap</td>\n",
       "      <td>1.402924e-01</td>\n",
       "      <td>1.995463e-01</td>\n",
       "      <td>0.097188051</td>\n",
       "      <td>3.688847e-02</td>\n",
       "      <td>2.931995e-02</td>\n",
       "      <td>0.000000e+00</td>\n",
       "      <td>5.032351e-01</td>\n",
       "      <td>3A</td>\n",
       "    </tr>\n",
       "    <tr>\n",
       "      <th>1</th>\n",
       "      <td>Armenia</td>\n",
       "      <td>1992</td>\n",
       "      <td>1</td>\n",
       "      <td>AreaTotHA</td>\n",
       "      <td>4.830000e+05</td>\n",
       "      <td>6.870000e+05</td>\n",
       "      <td>334600</td>\n",
       "      <td>1.270000e+05</td>\n",
       "      <td>1.009430e+05</td>\n",
       "      <td>0.000000e+00</td>\n",
       "      <td>1.732543e+06</td>\n",
       "      <td>3A</td>\n",
       "    </tr>\n",
       "    <tr>\n",
       "      <th>2</th>\n",
       "      <td>Armenia</td>\n",
       "      <td>1992</td>\n",
       "      <td>1</td>\n",
       "      <td>BiocapPerCap</td>\n",
       "      <td>1.598044e-01</td>\n",
       "      <td>1.352610e-01</td>\n",
       "      <td>0.084003213</td>\n",
       "      <td>1.374213e-02</td>\n",
       "      <td>3.339780e-02</td>\n",
       "      <td>0.000000e+00</td>\n",
       "      <td>4.262086e-01</td>\n",
       "      <td>3A</td>\n",
       "    </tr>\n",
       "    <tr>\n",
       "      <th>3</th>\n",
       "      <td>Armenia</td>\n",
       "      <td>1992</td>\n",
       "      <td>1</td>\n",
       "      <td>BiocapTotGHA</td>\n",
       "      <td>5.501762e+05</td>\n",
       "      <td>4.656780e+05</td>\n",
       "      <td>289207.1078</td>\n",
       "      <td>4.731155e+04</td>\n",
       "      <td>1.149823e+05</td>\n",
       "      <td>0.000000e+00</td>\n",
       "      <td>1.467355e+06</td>\n",
       "      <td>3A</td>\n",
       "    </tr>\n",
       "    <tr>\n",
       "      <th>4</th>\n",
       "      <td>Armenia</td>\n",
       "      <td>1992</td>\n",
       "      <td>1</td>\n",
       "      <td>EFConsPerCap</td>\n",
       "      <td>3.875102e-01</td>\n",
       "      <td>1.894622e-01</td>\n",
       "      <td>1.26E-06</td>\n",
       "      <td>4.164833e-03</td>\n",
       "      <td>3.339780e-02</td>\n",
       "      <td>1.114093e+00</td>\n",
       "      <td>1.728629e+00</td>\n",
       "      <td>3A</td>\n",
       "    </tr>\n",
       "    <tr>\n",
       "      <th>...</th>\n",
       "      <td>...</td>\n",
       "      <td>...</td>\n",
       "      <td>...</td>\n",
       "      <td>...</td>\n",
       "      <td>...</td>\n",
       "      <td>...</td>\n",
       "      <td>...</td>\n",
       "      <td>...</td>\n",
       "      <td>...</td>\n",
       "      <td>...</td>\n",
       "      <td>...</td>\n",
       "      <td>...</td>\n",
       "    </tr>\n",
       "    <tr>\n",
       "      <th>72181</th>\n",
       "      <td>World</td>\n",
       "      <td>2016</td>\n",
       "      <td>5001</td>\n",
       "      <td>BiocapTotGHA</td>\n",
       "      <td>3.984702e+09</td>\n",
       "      <td>1.504757e+09</td>\n",
       "      <td>5111762779</td>\n",
       "      <td>1.095445e+09</td>\n",
       "      <td>4.726163e+08</td>\n",
       "      <td>0.000000e+00</td>\n",
       "      <td>1.216928e+10</td>\n",
       "      <td>3A</td>\n",
       "    </tr>\n",
       "    <tr>\n",
       "      <th>72182</th>\n",
       "      <td>World</td>\n",
       "      <td>2016</td>\n",
       "      <td>5001</td>\n",
       "      <td>EFConsPerCap</td>\n",
       "      <td>5.336445e-01</td>\n",
       "      <td>1.402092e-01</td>\n",
       "      <td>0.273495416</td>\n",
       "      <td>8.974253e-02</td>\n",
       "      <td>6.329435e-02</td>\n",
       "      <td>1.646235e+00</td>\n",
       "      <td>2.746619e+00</td>\n",
       "      <td>3A</td>\n",
       "    </tr>\n",
       "    <tr>\n",
       "      <th>72183</th>\n",
       "      <td>World</td>\n",
       "      <td>2016</td>\n",
       "      <td>5001</td>\n",
       "      <td>EFConsTotGHA</td>\n",
       "      <td>3.984702e+09</td>\n",
       "      <td>1.046937e+09</td>\n",
       "      <td>2042179333</td>\n",
       "      <td>6.701039e+08</td>\n",
       "      <td>4.726163e+08</td>\n",
       "      <td>1.229237e+10</td>\n",
       "      <td>2.050891e+10</td>\n",
       "      <td>3A</td>\n",
       "    </tr>\n",
       "    <tr>\n",
       "      <th>72184</th>\n",
       "      <td>World</td>\n",
       "      <td>2016</td>\n",
       "      <td>5001</td>\n",
       "      <td>EFProdPerCap</td>\n",
       "      <td>5.336445e-01</td>\n",
       "      <td>1.402092e-01</td>\n",
       "      <td>0.273495416</td>\n",
       "      <td>8.974253e-02</td>\n",
       "      <td>6.329435e-02</td>\n",
       "      <td>1.646235e+00</td>\n",
       "      <td>2.746619e+00</td>\n",
       "      <td>3A</td>\n",
       "    </tr>\n",
       "    <tr>\n",
       "      <th>72185</th>\n",
       "      <td>World</td>\n",
       "      <td>2016</td>\n",
       "      <td>5001</td>\n",
       "      <td>EFProdTotGHA</td>\n",
       "      <td>3.984702e+09</td>\n",
       "      <td>1.046937e+09</td>\n",
       "      <td>2042179333</td>\n",
       "      <td>6.701039e+08</td>\n",
       "      <td>4.726163e+08</td>\n",
       "      <td>1.229237e+10</td>\n",
       "      <td>2.050891e+10</td>\n",
       "      <td>3A</td>\n",
       "    </tr>\n",
       "  </tbody>\n",
       "</table>\n",
       "<p>72186 rows × 12 columns</p>\n",
       "</div>"
      ],
      "text/plain": [
       "       country  year  country_code        record     crop_land  grazing_land  \\\n",
       "0      Armenia  1992             1    AreaPerCap  1.402924e-01  1.995463e-01   \n",
       "1      Armenia  1992             1     AreaTotHA  4.830000e+05  6.870000e+05   \n",
       "2      Armenia  1992             1  BiocapPerCap  1.598044e-01  1.352610e-01   \n",
       "3      Armenia  1992             1  BiocapTotGHA  5.501762e+05  4.656780e+05   \n",
       "4      Armenia  1992             1  EFConsPerCap  3.875102e-01  1.894622e-01   \n",
       "...        ...   ...           ...           ...           ...           ...   \n",
       "72181    World  2016          5001  BiocapTotGHA  3.984702e+09  1.504757e+09   \n",
       "72182    World  2016          5001  EFConsPerCap  5.336445e-01  1.402092e-01   \n",
       "72183    World  2016          5001  EFConsTotGHA  3.984702e+09  1.046937e+09   \n",
       "72184    World  2016          5001  EFProdPerCap  5.336445e-01  1.402092e-01   \n",
       "72185    World  2016          5001  EFProdTotGHA  3.984702e+09  1.046937e+09   \n",
       "\n",
       "       forest_land  fishing_ground  built_up_land        carbon         total  \\\n",
       "0      0.097188051    3.688847e-02   2.931995e-02  0.000000e+00  5.032351e-01   \n",
       "1           334600    1.270000e+05   1.009430e+05  0.000000e+00  1.732543e+06   \n",
       "2      0.084003213    1.374213e-02   3.339780e-02  0.000000e+00  4.262086e-01   \n",
       "3      289207.1078    4.731155e+04   1.149823e+05  0.000000e+00  1.467355e+06   \n",
       "4         1.26E-06    4.164833e-03   3.339780e-02  1.114093e+00  1.728629e+00   \n",
       "...            ...             ...            ...           ...           ...   \n",
       "72181   5111762779    1.095445e+09   4.726163e+08  0.000000e+00  1.216928e+10   \n",
       "72182  0.273495416    8.974253e-02   6.329435e-02  1.646235e+00  2.746619e+00   \n",
       "72183   2042179333    6.701039e+08   4.726163e+08  1.229237e+10  2.050891e+10   \n",
       "72184  0.273495416    8.974253e-02   6.329435e-02  1.646235e+00  2.746619e+00   \n",
       "72185   2042179333    6.701039e+08   4.726163e+08  1.229237e+10  2.050891e+10   \n",
       "\n",
       "      QScore  \n",
       "0         3A  \n",
       "1         3A  \n",
       "2         3A  \n",
       "3         3A  \n",
       "4         3A  \n",
       "...      ...  \n",
       "72181     3A  \n",
       "72182     3A  \n",
       "72183     3A  \n",
       "72184     3A  \n",
       "72185     3A  \n",
       "\n",
       "[72186 rows x 12 columns]"
      ]
     },
     "execution_count": 5,
     "metadata": {},
     "output_type": "execute_result"
    }
   ],
   "source": [
    "df"
   ]
  },
  {
   "cell_type": "markdown",
   "metadata": {},
   "source": [
    "#### Target variable is QScore so lets check what it is made of"
   ]
  },
  {
   "cell_type": "code",
   "execution_count": 6,
   "metadata": {
    "scrolled": true
   },
   "outputs": [
    {
     "data": {
      "text/plain": [
       "3A    51481\n",
       "2A    10576\n",
       "2B    10096\n",
       "1B       16\n",
       "1A       16\n",
       "Name: QScore, dtype: int64"
      ]
     },
     "execution_count": 6,
     "metadata": {},
     "output_type": "execute_result"
    }
   ],
   "source": [
    "df.QScore.value_counts()"
   ]
  },
  {
   "cell_type": "markdown",
   "metadata": {},
   "source": [
    "#### Lets also check the missing data"
   ]
  },
  {
   "cell_type": "code",
   "execution_count": 7,
   "metadata": {
    "scrolled": true
   },
   "outputs": [
    {
     "data": {
      "text/plain": [
       "country               0\n",
       "year                  0\n",
       "country_code          0\n",
       "record                0\n",
       "crop_land         20472\n",
       "grazing_land      20472\n",
       "forest_land       20472\n",
       "fishing_ground    20473\n",
       "built_up_land     20473\n",
       "carbon            20473\n",
       "total                 9\n",
       "QScore                1\n",
       "dtype: int64"
      ]
     },
     "execution_count": 7,
     "metadata": {},
     "output_type": "execute_result"
    }
   ],
   "source": [
    "df.isnull().sum()"
   ]
  },
  {
   "cell_type": "code",
   "execution_count": 8,
   "metadata": {},
   "outputs": [
    {
     "data": {
      "text/plain": [
       "country           0\n",
       "year              0\n",
       "country_code      0\n",
       "record            0\n",
       "crop_land         0\n",
       "grazing_land      0\n",
       "forest_land       0\n",
       "fishing_ground    0\n",
       "built_up_land     0\n",
       "carbon            0\n",
       "total             0\n",
       "QScore            0\n",
       "dtype: int64"
      ]
     },
     "execution_count": 8,
     "metadata": {},
     "output_type": "execute_result"
    }
   ],
   "source": [
    "df.dropna(inplace=True)\n",
    "df.isna().sum()"
   ]
  },
  {
   "cell_type": "markdown",
   "metadata": {},
   "source": [
    "### Checking the target variable again"
   ]
  },
  {
   "cell_type": "code",
   "execution_count": 9,
   "metadata": {},
   "outputs": [
    {
     "data": {
      "text/plain": [
       "3A    51473\n",
       "2A      224\n",
       "1A       16\n",
       "Name: QScore, dtype: int64"
      ]
     },
     "execution_count": 9,
     "metadata": {},
     "output_type": "execute_result"
    }
   ],
   "source": [
    "df.QScore.value_counts()"
   ]
  },
  {
   "cell_type": "markdown",
   "metadata": {},
   "source": [
    "#### We can see the difference in the values now \n",
    "\n",
    "For this practice we will be doing a binary classification, i.e between 2 classes, for now.\n",
    "\n",
    "so we will be choosing 2A and 3A for the test"
   ]
  },
  {
   "cell_type": "code",
   "execution_count": 10,
   "metadata": {},
   "outputs": [
    {
     "data": {
      "text/plain": [
       "3A    51473\n",
       "2A      240\n",
       "Name: QScore, dtype: int64"
      ]
     },
     "execution_count": 10,
     "metadata": {},
     "output_type": "execute_result"
    }
   ],
   "source": [
    "# treating 1A attributes as 2A\n",
    "df.QScore.replace('1A','2A', inplace=True)\n",
    "df.QScore.value_counts()"
   ]
  },
  {
   "cell_type": "markdown",
   "metadata": {},
   "source": [
    ">Separating the data"
   ]
  },
  {
   "cell_type": "code",
   "execution_count": 11,
   "metadata": {},
   "outputs": [],
   "source": [
    "df_2A = df[df.QScore =='2A']\n",
    "df_3A = df[df['QScore']=='3A'].sample(350)"
   ]
  },
  {
   "cell_type": "code",
   "execution_count": 12,
   "metadata": {},
   "outputs": [],
   "source": [
    "data = df_2A.append(df_3A)"
   ]
  },
  {
   "cell_type": "code",
   "execution_count": 13,
   "metadata": {},
   "outputs": [
    {
     "data": {
      "text/html": [
       "<div>\n",
       "<style scoped>\n",
       "    .dataframe tbody tr th:only-of-type {\n",
       "        vertical-align: middle;\n",
       "    }\n",
       "\n",
       "    .dataframe tbody tr th {\n",
       "        vertical-align: top;\n",
       "    }\n",
       "\n",
       "    .dataframe thead th {\n",
       "        text-align: right;\n",
       "    }\n",
       "</style>\n",
       "<table border=\"1\" class=\"dataframe\">\n",
       "  <thead>\n",
       "    <tr style=\"text-align: right;\">\n",
       "      <th></th>\n",
       "      <th>country</th>\n",
       "      <th>year</th>\n",
       "      <th>country_code</th>\n",
       "      <th>record</th>\n",
       "      <th>crop_land</th>\n",
       "      <th>grazing_land</th>\n",
       "      <th>forest_land</th>\n",
       "      <th>fishing_ground</th>\n",
       "      <th>built_up_land</th>\n",
       "      <th>carbon</th>\n",
       "      <th>total</th>\n",
       "      <th>QScore</th>\n",
       "    </tr>\n",
       "  </thead>\n",
       "  <tbody>\n",
       "    <tr>\n",
       "      <th>0</th>\n",
       "      <td>Algeria</td>\n",
       "      <td>2016</td>\n",
       "      <td>4</td>\n",
       "      <td>AreaPerCap</td>\n",
       "      <td>2.072989e-01</td>\n",
       "      <td>8.112722e-01</td>\n",
       "      <td>0.048357265</td>\n",
       "      <td>2.258528e-02</td>\n",
       "      <td>2.998367e-02</td>\n",
       "      <td>0.000000e+00</td>\n",
       "      <td>1.119497e+00</td>\n",
       "      <td>2A</td>\n",
       "    </tr>\n",
       "    <tr>\n",
       "      <th>1</th>\n",
       "      <td>Algeria</td>\n",
       "      <td>2016</td>\n",
       "      <td>4</td>\n",
       "      <td>AreaTotHA</td>\n",
       "      <td>8.417600e+06</td>\n",
       "      <td>3.294260e+07</td>\n",
       "      <td>1963600</td>\n",
       "      <td>9.171000e+05</td>\n",
       "      <td>1.217520e+06</td>\n",
       "      <td>0.000000e+00</td>\n",
       "      <td>4.545842e+07</td>\n",
       "      <td>2A</td>\n",
       "    </tr>\n",
       "    <tr>\n",
       "      <th>2</th>\n",
       "      <td>Algeria</td>\n",
       "      <td>2016</td>\n",
       "      <td>4</td>\n",
       "      <td>BiocapPerCap</td>\n",
       "      <td>2.021916e-01</td>\n",
       "      <td>2.636077e-01</td>\n",
       "      <td>0.027166736</td>\n",
       "      <td>7.947991e-03</td>\n",
       "      <td>2.924496e-02</td>\n",
       "      <td>0.000000e+00</td>\n",
       "      <td>5.301590e-01</td>\n",
       "      <td>2A</td>\n",
       "    </tr>\n",
       "    <tr>\n",
       "      <th>3</th>\n",
       "      <td>Algeria</td>\n",
       "      <td>2016</td>\n",
       "      <td>4</td>\n",
       "      <td>BiocapTotGHA</td>\n",
       "      <td>8.210214e+06</td>\n",
       "      <td>1.070408e+07</td>\n",
       "      <td>1103135.245</td>\n",
       "      <td>3.227369e+05</td>\n",
       "      <td>1.187524e+06</td>\n",
       "      <td>0.000000e+00</td>\n",
       "      <td>2.152769e+07</td>\n",
       "      <td>2A</td>\n",
       "    </tr>\n",
       "    <tr>\n",
       "      <th>4</th>\n",
       "      <td>Algeria</td>\n",
       "      <td>2016</td>\n",
       "      <td>4</td>\n",
       "      <td>EFConsPerCap</td>\n",
       "      <td>6.280528e-01</td>\n",
       "      <td>1.810332e-01</td>\n",
       "      <td>0.162800822</td>\n",
       "      <td>1.472910e-02</td>\n",
       "      <td>2.924496e-02</td>\n",
       "      <td>1.391455e+00</td>\n",
       "      <td>2.407316e+00</td>\n",
       "      <td>2A</td>\n",
       "    </tr>\n",
       "    <tr>\n",
       "      <th>...</th>\n",
       "      <td>...</td>\n",
       "      <td>...</td>\n",
       "      <td>...</td>\n",
       "      <td>...</td>\n",
       "      <td>...</td>\n",
       "      <td>...</td>\n",
       "      <td>...</td>\n",
       "      <td>...</td>\n",
       "      <td>...</td>\n",
       "      <td>...</td>\n",
       "      <td>...</td>\n",
       "      <td>...</td>\n",
       "    </tr>\n",
       "    <tr>\n",
       "      <th>585</th>\n",
       "      <td>Paraguay</td>\n",
       "      <td>2003</td>\n",
       "      <td>169</td>\n",
       "      <td>EFProdTotGHA</td>\n",
       "      <td>8.822898e+06</td>\n",
       "      <td>1.092258e+07</td>\n",
       "      <td>5202430.629</td>\n",
       "      <td>4.485957e+04</td>\n",
       "      <td>5.465968e+05</td>\n",
       "      <td>1.377708e+06</td>\n",
       "      <td>2.691707e+07</td>\n",
       "      <td>3A</td>\n",
       "    </tr>\n",
       "    <tr>\n",
       "      <th>586</th>\n",
       "      <td>Mexico</td>\n",
       "      <td>2007</td>\n",
       "      <td>138</td>\n",
       "      <td>EFProdTotGHA</td>\n",
       "      <td>3.977095e+07</td>\n",
       "      <td>2.907084e+07</td>\n",
       "      <td>19612353.41</td>\n",
       "      <td>8.042884e+06</td>\n",
       "      <td>4.728035e+06</td>\n",
       "      <td>1.628276e+08</td>\n",
       "      <td>2.640527e+08</td>\n",
       "      <td>3A</td>\n",
       "    </tr>\n",
       "    <tr>\n",
       "      <th>587</th>\n",
       "      <td>Cameroon</td>\n",
       "      <td>2005</td>\n",
       "      <td>32</td>\n",
       "      <td>EFConsPerCap</td>\n",
       "      <td>4.428059e-01</td>\n",
       "      <td>1.257607e-01</td>\n",
       "      <td>0.253316867</td>\n",
       "      <td>5.534297e-02</td>\n",
       "      <td>4.106505e-02</td>\n",
       "      <td>1.446133e-01</td>\n",
       "      <td>1.062905e+00</td>\n",
       "      <td>3A</td>\n",
       "    </tr>\n",
       "    <tr>\n",
       "      <th>588</th>\n",
       "      <td>Mozambique</td>\n",
       "      <td>1973</td>\n",
       "      <td>144</td>\n",
       "      <td>BiocapTotGHA</td>\n",
       "      <td>3.682331e+06</td>\n",
       "      <td>2.490601e+07</td>\n",
       "      <td>17405682.46</td>\n",
       "      <td>4.328439e+06</td>\n",
       "      <td>5.312982e+05</td>\n",
       "      <td>0.000000e+00</td>\n",
       "      <td>5.085376e+07</td>\n",
       "      <td>3A</td>\n",
       "    </tr>\n",
       "    <tr>\n",
       "      <th>589</th>\n",
       "      <td>Rwanda</td>\n",
       "      <td>1997</td>\n",
       "      <td>184</td>\n",
       "      <td>BiocapTotGHA</td>\n",
       "      <td>1.529392e+06</td>\n",
       "      <td>7.886316e+05</td>\n",
       "      <td>118371.1086</td>\n",
       "      <td>6.180035e+04</td>\n",
       "      <td>1.586198e+05</td>\n",
       "      <td>0.000000e+00</td>\n",
       "      <td>2.656815e+06</td>\n",
       "      <td>3A</td>\n",
       "    </tr>\n",
       "  </tbody>\n",
       "</table>\n",
       "<p>590 rows × 12 columns</p>\n",
       "</div>"
      ],
      "text/plain": [
       "        country  year  country_code        record     crop_land  grazing_land  \\\n",
       "0       Algeria  2016             4    AreaPerCap  2.072989e-01  8.112722e-01   \n",
       "1       Algeria  2016             4     AreaTotHA  8.417600e+06  3.294260e+07   \n",
       "2       Algeria  2016             4  BiocapPerCap  2.021916e-01  2.636077e-01   \n",
       "3       Algeria  2016             4  BiocapTotGHA  8.210214e+06  1.070408e+07   \n",
       "4       Algeria  2016             4  EFConsPerCap  6.280528e-01  1.810332e-01   \n",
       "..          ...   ...           ...           ...           ...           ...   \n",
       "585    Paraguay  2003           169  EFProdTotGHA  8.822898e+06  1.092258e+07   \n",
       "586      Mexico  2007           138  EFProdTotGHA  3.977095e+07  2.907084e+07   \n",
       "587    Cameroon  2005            32  EFConsPerCap  4.428059e-01  1.257607e-01   \n",
       "588  Mozambique  1973           144  BiocapTotGHA  3.682331e+06  2.490601e+07   \n",
       "589      Rwanda  1997           184  BiocapTotGHA  1.529392e+06  7.886316e+05   \n",
       "\n",
       "     forest_land  fishing_ground  built_up_land        carbon         total  \\\n",
       "0    0.048357265    2.258528e-02   2.998367e-02  0.000000e+00  1.119497e+00   \n",
       "1        1963600    9.171000e+05   1.217520e+06  0.000000e+00  4.545842e+07   \n",
       "2    0.027166736    7.947991e-03   2.924496e-02  0.000000e+00  5.301590e-01   \n",
       "3    1103135.245    3.227369e+05   1.187524e+06  0.000000e+00  2.152769e+07   \n",
       "4    0.162800822    1.472910e-02   2.924496e-02  1.391455e+00  2.407316e+00   \n",
       "..           ...             ...            ...           ...           ...   \n",
       "585  5202430.629    4.485957e+04   5.465968e+05  1.377708e+06  2.691707e+07   \n",
       "586  19612353.41    8.042884e+06   4.728035e+06  1.628276e+08  2.640527e+08   \n",
       "587  0.253316867    5.534297e-02   4.106505e-02  1.446133e-01  1.062905e+00   \n",
       "588  17405682.46    4.328439e+06   5.312982e+05  0.000000e+00  5.085376e+07   \n",
       "589  118371.1086    6.180035e+04   1.586198e+05  0.000000e+00  2.656815e+06   \n",
       "\n",
       "    QScore  \n",
       "0       2A  \n",
       "1       2A  \n",
       "2       2A  \n",
       "3       2A  \n",
       "4       2A  \n",
       "..     ...  \n",
       "585     3A  \n",
       "586     3A  \n",
       "587     3A  \n",
       "588     3A  \n",
       "589     3A  \n",
       "\n",
       "[590 rows x 12 columns]"
      ]
     },
     "execution_count": 13,
     "metadata": {},
     "output_type": "execute_result"
    }
   ],
   "source": [
    "data.reset_index(drop=True)"
   ]
  },
  {
   "cell_type": "code",
   "execution_count": 14,
   "metadata": {},
   "outputs": [],
   "source": [
    "data.reset_index(drop=True, inplace=True)\n",
    "data.index=data.index +1"
   ]
  },
  {
   "cell_type": "code",
   "execution_count": 15,
   "metadata": {},
   "outputs": [
    {
     "data": {
      "text/html": [
       "<div>\n",
       "<style scoped>\n",
       "    .dataframe tbody tr th:only-of-type {\n",
       "        vertical-align: middle;\n",
       "    }\n",
       "\n",
       "    .dataframe tbody tr th {\n",
       "        vertical-align: top;\n",
       "    }\n",
       "\n",
       "    .dataframe thead th {\n",
       "        text-align: right;\n",
       "    }\n",
       "</style>\n",
       "<table border=\"1\" class=\"dataframe\">\n",
       "  <thead>\n",
       "    <tr style=\"text-align: right;\">\n",
       "      <th></th>\n",
       "      <th>country</th>\n",
       "      <th>year</th>\n",
       "      <th>country_code</th>\n",
       "      <th>record</th>\n",
       "      <th>crop_land</th>\n",
       "      <th>grazing_land</th>\n",
       "      <th>forest_land</th>\n",
       "      <th>fishing_ground</th>\n",
       "      <th>built_up_land</th>\n",
       "      <th>carbon</th>\n",
       "      <th>total</th>\n",
       "      <th>QScore</th>\n",
       "    </tr>\n",
       "  </thead>\n",
       "  <tbody>\n",
       "    <tr>\n",
       "      <th>1</th>\n",
       "      <td>Algeria</td>\n",
       "      <td>2016</td>\n",
       "      <td>4</td>\n",
       "      <td>AreaPerCap</td>\n",
       "      <td>2.072989e-01</td>\n",
       "      <td>8.112722e-01</td>\n",
       "      <td>0.048357265</td>\n",
       "      <td>2.258528e-02</td>\n",
       "      <td>2.998367e-02</td>\n",
       "      <td>0.000000e+00</td>\n",
       "      <td>1.119497e+00</td>\n",
       "      <td>2A</td>\n",
       "    </tr>\n",
       "    <tr>\n",
       "      <th>2</th>\n",
       "      <td>Algeria</td>\n",
       "      <td>2016</td>\n",
       "      <td>4</td>\n",
       "      <td>AreaTotHA</td>\n",
       "      <td>8.417600e+06</td>\n",
       "      <td>3.294260e+07</td>\n",
       "      <td>1963600</td>\n",
       "      <td>9.171000e+05</td>\n",
       "      <td>1.217520e+06</td>\n",
       "      <td>0.000000e+00</td>\n",
       "      <td>4.545842e+07</td>\n",
       "      <td>2A</td>\n",
       "    </tr>\n",
       "    <tr>\n",
       "      <th>3</th>\n",
       "      <td>Algeria</td>\n",
       "      <td>2016</td>\n",
       "      <td>4</td>\n",
       "      <td>BiocapPerCap</td>\n",
       "      <td>2.021916e-01</td>\n",
       "      <td>2.636077e-01</td>\n",
       "      <td>0.027166736</td>\n",
       "      <td>7.947991e-03</td>\n",
       "      <td>2.924496e-02</td>\n",
       "      <td>0.000000e+00</td>\n",
       "      <td>5.301590e-01</td>\n",
       "      <td>2A</td>\n",
       "    </tr>\n",
       "    <tr>\n",
       "      <th>4</th>\n",
       "      <td>Algeria</td>\n",
       "      <td>2016</td>\n",
       "      <td>4</td>\n",
       "      <td>BiocapTotGHA</td>\n",
       "      <td>8.210214e+06</td>\n",
       "      <td>1.070408e+07</td>\n",
       "      <td>1103135.245</td>\n",
       "      <td>3.227369e+05</td>\n",
       "      <td>1.187524e+06</td>\n",
       "      <td>0.000000e+00</td>\n",
       "      <td>2.152769e+07</td>\n",
       "      <td>2A</td>\n",
       "    </tr>\n",
       "    <tr>\n",
       "      <th>5</th>\n",
       "      <td>Algeria</td>\n",
       "      <td>2016</td>\n",
       "      <td>4</td>\n",
       "      <td>EFConsPerCap</td>\n",
       "      <td>6.280528e-01</td>\n",
       "      <td>1.810332e-01</td>\n",
       "      <td>0.162800822</td>\n",
       "      <td>1.472910e-02</td>\n",
       "      <td>2.924496e-02</td>\n",
       "      <td>1.391455e+00</td>\n",
       "      <td>2.407316e+00</td>\n",
       "      <td>2A</td>\n",
       "    </tr>\n",
       "    <tr>\n",
       "      <th>...</th>\n",
       "      <td>...</td>\n",
       "      <td>...</td>\n",
       "      <td>...</td>\n",
       "      <td>...</td>\n",
       "      <td>...</td>\n",
       "      <td>...</td>\n",
       "      <td>...</td>\n",
       "      <td>...</td>\n",
       "      <td>...</td>\n",
       "      <td>...</td>\n",
       "      <td>...</td>\n",
       "      <td>...</td>\n",
       "    </tr>\n",
       "    <tr>\n",
       "      <th>586</th>\n",
       "      <td>Paraguay</td>\n",
       "      <td>2003</td>\n",
       "      <td>169</td>\n",
       "      <td>EFProdTotGHA</td>\n",
       "      <td>8.822898e+06</td>\n",
       "      <td>1.092258e+07</td>\n",
       "      <td>5202430.629</td>\n",
       "      <td>4.485957e+04</td>\n",
       "      <td>5.465968e+05</td>\n",
       "      <td>1.377708e+06</td>\n",
       "      <td>2.691707e+07</td>\n",
       "      <td>3A</td>\n",
       "    </tr>\n",
       "    <tr>\n",
       "      <th>587</th>\n",
       "      <td>Mexico</td>\n",
       "      <td>2007</td>\n",
       "      <td>138</td>\n",
       "      <td>EFProdTotGHA</td>\n",
       "      <td>3.977095e+07</td>\n",
       "      <td>2.907084e+07</td>\n",
       "      <td>19612353.41</td>\n",
       "      <td>8.042884e+06</td>\n",
       "      <td>4.728035e+06</td>\n",
       "      <td>1.628276e+08</td>\n",
       "      <td>2.640527e+08</td>\n",
       "      <td>3A</td>\n",
       "    </tr>\n",
       "    <tr>\n",
       "      <th>588</th>\n",
       "      <td>Cameroon</td>\n",
       "      <td>2005</td>\n",
       "      <td>32</td>\n",
       "      <td>EFConsPerCap</td>\n",
       "      <td>4.428059e-01</td>\n",
       "      <td>1.257607e-01</td>\n",
       "      <td>0.253316867</td>\n",
       "      <td>5.534297e-02</td>\n",
       "      <td>4.106505e-02</td>\n",
       "      <td>1.446133e-01</td>\n",
       "      <td>1.062905e+00</td>\n",
       "      <td>3A</td>\n",
       "    </tr>\n",
       "    <tr>\n",
       "      <th>589</th>\n",
       "      <td>Mozambique</td>\n",
       "      <td>1973</td>\n",
       "      <td>144</td>\n",
       "      <td>BiocapTotGHA</td>\n",
       "      <td>3.682331e+06</td>\n",
       "      <td>2.490601e+07</td>\n",
       "      <td>17405682.46</td>\n",
       "      <td>4.328439e+06</td>\n",
       "      <td>5.312982e+05</td>\n",
       "      <td>0.000000e+00</td>\n",
       "      <td>5.085376e+07</td>\n",
       "      <td>3A</td>\n",
       "    </tr>\n",
       "    <tr>\n",
       "      <th>590</th>\n",
       "      <td>Rwanda</td>\n",
       "      <td>1997</td>\n",
       "      <td>184</td>\n",
       "      <td>BiocapTotGHA</td>\n",
       "      <td>1.529392e+06</td>\n",
       "      <td>7.886316e+05</td>\n",
       "      <td>118371.1086</td>\n",
       "      <td>6.180035e+04</td>\n",
       "      <td>1.586198e+05</td>\n",
       "      <td>0.000000e+00</td>\n",
       "      <td>2.656815e+06</td>\n",
       "      <td>3A</td>\n",
       "    </tr>\n",
       "  </tbody>\n",
       "</table>\n",
       "<p>590 rows × 12 columns</p>\n",
       "</div>"
      ],
      "text/plain": [
       "        country  year  country_code        record     crop_land  grazing_land  \\\n",
       "1       Algeria  2016             4    AreaPerCap  2.072989e-01  8.112722e-01   \n",
       "2       Algeria  2016             4     AreaTotHA  8.417600e+06  3.294260e+07   \n",
       "3       Algeria  2016             4  BiocapPerCap  2.021916e-01  2.636077e-01   \n",
       "4       Algeria  2016             4  BiocapTotGHA  8.210214e+06  1.070408e+07   \n",
       "5       Algeria  2016             4  EFConsPerCap  6.280528e-01  1.810332e-01   \n",
       "..          ...   ...           ...           ...           ...           ...   \n",
       "586    Paraguay  2003           169  EFProdTotGHA  8.822898e+06  1.092258e+07   \n",
       "587      Mexico  2007           138  EFProdTotGHA  3.977095e+07  2.907084e+07   \n",
       "588    Cameroon  2005            32  EFConsPerCap  4.428059e-01  1.257607e-01   \n",
       "589  Mozambique  1973           144  BiocapTotGHA  3.682331e+06  2.490601e+07   \n",
       "590      Rwanda  1997           184  BiocapTotGHA  1.529392e+06  7.886316e+05   \n",
       "\n",
       "     forest_land  fishing_ground  built_up_land        carbon         total  \\\n",
       "1    0.048357265    2.258528e-02   2.998367e-02  0.000000e+00  1.119497e+00   \n",
       "2        1963600    9.171000e+05   1.217520e+06  0.000000e+00  4.545842e+07   \n",
       "3    0.027166736    7.947991e-03   2.924496e-02  0.000000e+00  5.301590e-01   \n",
       "4    1103135.245    3.227369e+05   1.187524e+06  0.000000e+00  2.152769e+07   \n",
       "5    0.162800822    1.472910e-02   2.924496e-02  1.391455e+00  2.407316e+00   \n",
       "..           ...             ...            ...           ...           ...   \n",
       "586  5202430.629    4.485957e+04   5.465968e+05  1.377708e+06  2.691707e+07   \n",
       "587  19612353.41    8.042884e+06   4.728035e+06  1.628276e+08  2.640527e+08   \n",
       "588  0.253316867    5.534297e-02   4.106505e-02  1.446133e-01  1.062905e+00   \n",
       "589  17405682.46    4.328439e+06   5.312982e+05  0.000000e+00  5.085376e+07   \n",
       "590  118371.1086    6.180035e+04   1.586198e+05  0.000000e+00  2.656815e+06   \n",
       "\n",
       "    QScore  \n",
       "1       2A  \n",
       "2       2A  \n",
       "3       2A  \n",
       "4       2A  \n",
       "5       2A  \n",
       "..     ...  \n",
       "586     3A  \n",
       "587     3A  \n",
       "588     3A  \n",
       "589     3A  \n",
       "590     3A  \n",
       "\n",
       "[590 rows x 12 columns]"
      ]
     },
     "execution_count": 15,
     "metadata": {},
     "output_type": "execute_result"
    }
   ],
   "source": [
    "data"
   ]
  },
  {
   "cell_type": "code",
   "execution_count": 17,
   "metadata": {},
   "outputs": [
    {
     "ename": "ImportError",
     "evalue": "No module named 'sklearn.__check_build._check_build'\n___________________________________________________________________________\nContents of C:\\Users\\ADELEKE OLADAPO\\anaconda3\\lib\\site-packages\\sklearn\\__check_build:\nsetup.py                  _check_build.cp38-win_amd64.pyd__init__.py\n__pycache__\n___________________________________________________________________________\nIt seems that scikit-learn has not been built correctly.\n\nIf you have installed scikit-learn from source, please do not forget\nto build the package before using it: run `python setup.py install` or\n`make` in the source directory.\n\nIf you have used an installer, please check that it is suited for your\nPython version, your operating system and your platform.",
     "output_type": "error",
     "traceback": [
      "\u001b[1;31m---------------------------------------------------------------------------\u001b[0m",
      "\u001b[1;31mModuleNotFoundError\u001b[0m                       Traceback (most recent call last)",
      "\u001b[1;32m~\\anaconda3\\lib\\site-packages\\sklearn\\__check_build\\__init__.py\u001b[0m in \u001b[0;36m<module>\u001b[1;34m\u001b[0m\n\u001b[0;32m     43\u001b[0m \u001b[1;32mtry\u001b[0m\u001b[1;33m:\u001b[0m\u001b[1;33m\u001b[0m\u001b[1;33m\u001b[0m\u001b[0m\n\u001b[1;32m---> 44\u001b[1;33m     \u001b[1;32mfrom\u001b[0m \u001b[1;33m.\u001b[0m\u001b[0m_check_build\u001b[0m \u001b[1;32mimport\u001b[0m \u001b[0mcheck_build\u001b[0m  \u001b[1;31m# noqa\u001b[0m\u001b[1;33m\u001b[0m\u001b[1;33m\u001b[0m\u001b[0m\n\u001b[0m\u001b[0;32m     45\u001b[0m \u001b[1;32mexcept\u001b[0m \u001b[0mImportError\u001b[0m \u001b[1;32mas\u001b[0m \u001b[0me\u001b[0m\u001b[1;33m:\u001b[0m\u001b[1;33m\u001b[0m\u001b[1;33m\u001b[0m\u001b[0m\n",
      "\u001b[1;31mModuleNotFoundError\u001b[0m: No module named 'sklearn.__check_build._check_build'",
      "\nDuring handling of the above exception, another exception occurred:\n",
      "\u001b[1;31mImportError\u001b[0m                               Traceback (most recent call last)",
      "\u001b[1;32m<ipython-input-17-ebfdc3417a12>\u001b[0m in \u001b[0;36m<module>\u001b[1;34m\u001b[0m\n\u001b[1;32m----> 1\u001b[1;33m \u001b[1;32mfrom\u001b[0m \u001b[0msklearn\u001b[0m\u001b[1;33m.\u001b[0m\u001b[0mutils\u001b[0m \u001b[1;32mimport\u001b[0m \u001b[0mshuffle\u001b[0m\u001b[1;33m\u001b[0m\u001b[1;33m\u001b[0m\u001b[0m\n\u001b[0m",
      "\u001b[1;32m~\\anaconda3\\lib\\site-packages\\sklearn\\__init__.py\u001b[0m in \u001b[0;36m<module>\u001b[1;34m\u001b[0m\n\u001b[0;32m     77\u001b[0m     \u001b[1;31m# it and importing it first would fail if the OpenMP dll cannot be found.\u001b[0m\u001b[1;33m\u001b[0m\u001b[1;33m\u001b[0m\u001b[1;33m\u001b[0m\u001b[0m\n\u001b[0;32m     78\u001b[0m     \u001b[1;32mfrom\u001b[0m \u001b[1;33m.\u001b[0m \u001b[1;32mimport\u001b[0m \u001b[0m_distributor_init\u001b[0m  \u001b[1;31m# noqa: F401\u001b[0m\u001b[1;33m\u001b[0m\u001b[1;33m\u001b[0m\u001b[0m\n\u001b[1;32m---> 79\u001b[1;33m     \u001b[1;32mfrom\u001b[0m \u001b[1;33m.\u001b[0m \u001b[1;32mimport\u001b[0m \u001b[0m__check_build\u001b[0m  \u001b[1;31m# noqa: F401\u001b[0m\u001b[1;33m\u001b[0m\u001b[1;33m\u001b[0m\u001b[0m\n\u001b[0m\u001b[0;32m     80\u001b[0m     \u001b[1;32mfrom\u001b[0m \u001b[1;33m.\u001b[0m\u001b[0mbase\u001b[0m \u001b[1;32mimport\u001b[0m \u001b[0mclone\u001b[0m\u001b[1;33m\u001b[0m\u001b[1;33m\u001b[0m\u001b[0m\n\u001b[0;32m     81\u001b[0m     \u001b[1;32mfrom\u001b[0m \u001b[1;33m.\u001b[0m\u001b[0mutils\u001b[0m\u001b[1;33m.\u001b[0m\u001b[0m_show_versions\u001b[0m \u001b[1;32mimport\u001b[0m \u001b[0mshow_versions\u001b[0m\u001b[1;33m\u001b[0m\u001b[1;33m\u001b[0m\u001b[0m\n",
      "\u001b[1;32m~\\anaconda3\\lib\\site-packages\\sklearn\\__check_build\\__init__.py\u001b[0m in \u001b[0;36m<module>\u001b[1;34m\u001b[0m\n\u001b[0;32m     44\u001b[0m     \u001b[1;32mfrom\u001b[0m \u001b[1;33m.\u001b[0m\u001b[0m_check_build\u001b[0m \u001b[1;32mimport\u001b[0m \u001b[0mcheck_build\u001b[0m  \u001b[1;31m# noqa\u001b[0m\u001b[1;33m\u001b[0m\u001b[1;33m\u001b[0m\u001b[0m\n\u001b[0;32m     45\u001b[0m \u001b[1;32mexcept\u001b[0m \u001b[0mImportError\u001b[0m \u001b[1;32mas\u001b[0m \u001b[0me\u001b[0m\u001b[1;33m:\u001b[0m\u001b[1;33m\u001b[0m\u001b[1;33m\u001b[0m\u001b[0m\n\u001b[1;32m---> 46\u001b[1;33m     \u001b[0mraise_build_error\u001b[0m\u001b[1;33m(\u001b[0m\u001b[0me\u001b[0m\u001b[1;33m)\u001b[0m\u001b[1;33m\u001b[0m\u001b[1;33m\u001b[0m\u001b[0m\n\u001b[0m",
      "\u001b[1;32m~\\anaconda3\\lib\\site-packages\\sklearn\\__check_build\\__init__.py\u001b[0m in \u001b[0;36mraise_build_error\u001b[1;34m(e)\u001b[0m\n\u001b[0;32m     39\u001b[0m \u001b[0mto\u001b[0m \u001b[0mbuild\u001b[0m \u001b[0mthe\u001b[0m \u001b[0mpackage\u001b[0m \u001b[0mbefore\u001b[0m \u001b[0musing\u001b[0m \u001b[0mit\u001b[0m\u001b[1;33m:\u001b[0m \u001b[0mrun\u001b[0m\u001b[0;31m \u001b[0m\u001b[0;31m`\u001b[0m\u001b[0mpython\u001b[0m \u001b[0msetup\u001b[0m\u001b[1;33m.\u001b[0m\u001b[0mpy\u001b[0m \u001b[0minstall\u001b[0m\u001b[0;31m`\u001b[0m \u001b[1;32mor\u001b[0m\u001b[1;33m\u001b[0m\u001b[1;33m\u001b[0m\u001b[0m\n\u001b[0;32m     40\u001b[0m \u001b[0;31m`\u001b[0m\u001b[0mmake\u001b[0m\u001b[0;31m`\u001b[0m \u001b[1;32min\u001b[0m \u001b[0mthe\u001b[0m \u001b[0msource\u001b[0m \u001b[0mdirectory\u001b[0m\u001b[1;33m.\u001b[0m\u001b[1;33m\u001b[0m\u001b[1;33m\u001b[0m\u001b[0m\n\u001b[1;32m---> 41\u001b[1;33m %s\"\"\" % (e, local_dir, ''.join(dir_content).strip(), msg))\n\u001b[0m\u001b[0;32m     42\u001b[0m \u001b[1;33m\u001b[0m\u001b[0m\n\u001b[0;32m     43\u001b[0m \u001b[1;32mtry\u001b[0m\u001b[1;33m:\u001b[0m\u001b[1;33m\u001b[0m\u001b[1;33m\u001b[0m\u001b[0m\n",
      "\u001b[1;31mImportError\u001b[0m: No module named 'sklearn.__check_build._check_build'\n___________________________________________________________________________\nContents of C:\\Users\\ADELEKE OLADAPO\\anaconda3\\lib\\site-packages\\sklearn\\__check_build:\nsetup.py                  _check_build.cp38-win_amd64.pyd__init__.py\n__pycache__\n___________________________________________________________________________\nIt seems that scikit-learn has not been built correctly.\n\nIf you have installed scikit-learn from source, please do not forget\nto build the package before using it: run `python setup.py install` or\n`make` in the source directory.\n\nIf you have used an installer, please check that it is suited for your\nPython version, your operating system and your platform."
     ]
    }
   ],
   "source": [
    "from sklearn.utils import shuffle"
   ]
  },
  {
   "cell_type": "code",
   "execution_count": null,
   "metadata": {},
   "outputs": [],
   "source": [
    "data = shuffle(data)\n",
    "data.reset_index(inplace=True)\n",
    "data.index = data.index+1"
   ]
  },
  {
   "cell_type": "code",
   "execution_count": null,
   "metadata": {},
   "outputs": [],
   "source": [
    "data"
   ]
  },
  {
   "cell_type": "code",
   "execution_count": null,
   "metadata": {},
   "outputs": [],
   "source": [
    "from sklearn.model_selection import train_test_split"
   ]
  },
  {
   "cell_type": "code",
   "execution_count": null,
   "metadata": {},
   "outputs": [],
   "source": [
    "x = data.drop(['country_code','QScore', 'country', 'year'], 1)\n",
    "y = data.QScore"
   ]
  },
  {
   "cell_type": "code",
   "execution_count": null,
   "metadata": {},
   "outputs": [],
   "source": [
    "x_train, x_test, y_train, y_test= train_test_split(x,y,\n",
    "                                                    random_state=0,\n",
    "                                                  test_size = 0.3)"
   ]
  },
  {
   "cell_type": "code",
   "execution_count": null,
   "metadata": {},
   "outputs": [],
   "source": [
    "y_train.value_counts()"
   ]
  },
  {
   "cell_type": "code",
   "execution_count": null,
   "metadata": {},
   "outputs": [],
   "source": [
    "from sklearn.preprocessing import LabelEncoder"
   ]
  },
  {
   "cell_type": "code",
   "execution_count": null,
   "metadata": {},
   "outputs": [],
   "source": [
    "encoder = LabelEncoder()\n",
    "x_train.record= encoder.fit_transform(x_train.record)\n",
    "x_test.record = encoder.fit_transform(x_test.record)"
   ]
  },
  {
   "cell_type": "code",
   "execution_count": null,
   "metadata": {},
   "outputs": [],
   "source": [
    "x_test.record.value_counts()"
   ]
  },
  {
   "cell_type": "code",
   "execution_count": null,
   "metadata": {},
   "outputs": [],
   "source": [
    "x_test"
   ]
  },
  {
   "cell_type": "code",
   "execution_count": null,
   "metadata": {},
   "outputs": [],
   "source": [
    "import sklearn\n",
    "from imblearn.over_sampling import SMOTE\n",
    "smote = SMOTE(random_state=1)"
   ]
  },
  {
   "cell_type": "code",
   "execution_count": null,
   "metadata": {
    "scrolled": true
   },
   "outputs": [],
   "source": [
    "ytrain= pd.Series(y_train)\n",
    "x_balanced, y_balanced = smote.fit_resample(x_train,ytrain)"
   ]
  },
  {
   "cell_type": "code",
   "execution_count": null,
   "metadata": {},
   "outputs": [],
   "source": [
    "x_train"
   ]
  },
  {
   "cell_type": "code",
   "execution_count": null,
   "metadata": {},
   "outputs": [],
   "source": [
    "import sys\n",
    "\n",
    "for i in sys.path:\n",
    "    print(i)"
   ]
  },
  {
   "cell_type": "code",
   "execution_count": null,
   "metadata": {},
   "outputs": [],
   "source": []
  },
  {
   "cell_type": "code",
   "execution_count": null,
   "metadata": {},
   "outputs": [],
   "source": []
  },
  {
   "cell_type": "code",
   "execution_count": null,
   "metadata": {},
   "outputs": [],
   "source": []
  },
  {
   "cell_type": "code",
   "execution_count": null,
   "metadata": {},
   "outputs": [],
   "source": []
  },
  {
   "cell_type": "code",
   "execution_count": null,
   "metadata": {},
   "outputs": [],
   "source": []
  },
  {
   "cell_type": "code",
   "execution_count": null,
   "metadata": {},
   "outputs": [],
   "source": []
  },
  {
   "cell_type": "code",
   "execution_count": null,
   "metadata": {},
   "outputs": [],
   "source": []
  },
  {
   "cell_type": "code",
   "execution_count": null,
   "metadata": {},
   "outputs": [],
   "source": []
  },
  {
   "cell_type": "code",
   "execution_count": null,
   "metadata": {},
   "outputs": [],
   "source": []
  }
 ],
 "metadata": {
  "kernelspec": {
   "display_name": "Python 3",
   "language": "python",
   "name": "python3"
  },
  "language_info": {
   "codemirror_mode": {
    "name": "ipython",
    "version": 3
   },
   "file_extension": ".py",
   "mimetype": "text/x-python",
   "name": "python",
   "nbconvert_exporter": "python",
   "pygments_lexer": "ipython3",
   "version": "3.7.6"
  }
 },
 "nbformat": 4,
 "nbformat_minor": 4
}
